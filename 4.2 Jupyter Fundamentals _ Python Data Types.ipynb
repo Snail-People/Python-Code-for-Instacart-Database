{
 "cells": [
  {
   "cell_type": "code",
   "execution_count": 1,
   "id": "a7f0f00c",
   "metadata": {},
   "outputs": [],
   "source": [
    "import numpy as np\n",
    "import pandas as pd\n",
    "import os\n",
    "\n",
    "# Import the libraries numpy and pandas"
   ]
  },
  {
   "cell_type": "code",
   "execution_count": 9,
   "id": "13e4fb45",
   "metadata": {},
   "outputs": [
    {
     "data": {
      "text/plain": [
       "(100, 100, 100)"
      ]
     },
     "execution_count": 9,
     "metadata": {},
     "output_type": "execute_result"
    }
   ],
   "source": [
    "a = 4\n",
    "b = 25\n",
    "c = 20\n",
    "d = 5\n",
    "e = 75\n",
    "\n",
    "b*a, c*d, e+b\n",
    "\n",
    "# 3 ways to reach 100"
   ]
  },
  {
   "cell_type": "code",
   "execution_count": 10,
   "id": "6e86d063",
   "metadata": {},
   "outputs": [
    {
     "data": {
      "text/plain": [
       "0.4797804005114716"
      ]
     },
     "execution_count": 10,
     "metadata": {},
     "output_type": "execute_result"
    }
   ],
   "source": [
    "z = 2.0385471\n",
    "p = 4.248917\n",
    "\n",
    "z/p\n",
    "\n",
    "# division of 2 floats"
   ]
  },
  {
   "cell_type": "code",
   "execution_count": 12,
   "id": "8c6d5697",
   "metadata": {},
   "outputs": [
    {
     "data": {
      "text/plain": [
       "'hello'"
      ]
     },
     "execution_count": 12,
     "metadata": {},
     "output_type": "execute_result"
    }
   ],
   "source": [
    "x = \"he\"\n",
    "y = \"ll\"\n",
    "z = \"o\"\n",
    "\n",
    "x+y+z\n",
    "\n",
    "# string concatenation"
   ]
  },
  {
   "cell_type": "code",
   "execution_count": 11,
   "id": "95206557",
   "metadata": {},
   "outputs": [
    {
     "data": {
      "text/plain": [
       "'This is a string'"
      ]
     },
     "execution_count": 11,
     "metadata": {},
     "output_type": "execute_result"
    }
   ],
   "source": [
    "x = \"This\"\n",
    "y = \"is a\"\n",
    "z = \"string\"\n",
    "\n",
    "x+\" \"+y+\" \"+z\n",
    "\n",
    "# sentence concatenation"
   ]
  },
  {
   "cell_type": "code",
   "execution_count": null,
   "id": "aa2ea049",
   "metadata": {},
   "outputs": [],
   "source": []
  }
 ],
 "metadata": {
  "kernelspec": {
   "display_name": "Python 3 (ipykernel)",
   "language": "python",
   "name": "python3"
  },
  "language_info": {
   "codemirror_mode": {
    "name": "ipython",
    "version": 3
   },
   "file_extension": ".py",
   "mimetype": "text/x-python",
   "name": "python",
   "nbconvert_exporter": "python",
   "pygments_lexer": "ipython3",
   "version": "3.9.7"
  }
 },
 "nbformat": 4,
 "nbformat_minor": 5
}
