{
 "cells": [
  {
   "cell_type": "code",
   "execution_count": 1,
   "id": "f417525d",
   "metadata": {},
   "outputs": [],
   "source": [
    "# Import relevant libraries\n",
    "\n",
    "import pandas as pd\n",
    "import numpy as np\n",
    "import os\n",
    "import matplotlib.pyplot as plt\n",
    "import seaborn as sns\n",
    "import scipy"
   ]
  },
  {
   "cell_type": "code",
   "execution_count": 2,
   "id": "c6297dbd",
   "metadata": {},
   "outputs": [],
   "source": [
    "# Import relevant files\n",
    "\n",
    "path = r'C:\\Users\\Lapis Lazuli\\Documents\\Python Projects\\CareerFoundry'"
   ]
  },
  {
   "cell_type": "code",
   "execution_count": 3,
   "id": "214bd8af",
   "metadata": {},
   "outputs": [],
   "source": [
    "df = pd.read_pickle(os.path.join(path, '2 Data','Prepared Data', 'ords_prods_cust_merged.pkl'))"
   ]
  },
  {
   "cell_type": "code",
   "execution_count": 4,
   "id": "f17ca4cd",
   "metadata": {},
   "outputs": [
    {
     "data": {
      "text/plain": [
       "(30629741, 30)"
      ]
     },
     "execution_count": 4,
     "metadata": {},
     "output_type": "execute_result"
    }
   ],
   "source": [
    "# Check that data was important correctly\n",
    "\n",
    "df.shape"
   ]
  },
  {
   "cell_type": "code",
   "execution_count": 5,
   "id": "c3507b85",
   "metadata": {},
   "outputs": [
    {
     "data": {
      "text/html": [
       "<div>\n",
       "<style scoped>\n",
       "    .dataframe tbody tr th:only-of-type {\n",
       "        vertical-align: middle;\n",
       "    }\n",
       "\n",
       "    .dataframe tbody tr th {\n",
       "        vertical-align: top;\n",
       "    }\n",
       "\n",
       "    .dataframe thead th {\n",
       "        text-align: right;\n",
       "    }\n",
       "</style>\n",
       "<table border=\"1\" class=\"dataframe\">\n",
       "  <thead>\n",
       "    <tr style=\"text-align: right;\">\n",
       "      <th></th>\n",
       "      <th>user_id</th>\n",
       "      <th>first_name</th>\n",
       "      <th>last_name</th>\n",
       "      <th>gender</th>\n",
       "      <th>state</th>\n",
       "      <th>age</th>\n",
       "      <th>date_joined</th>\n",
       "      <th>#_of_dependants</th>\n",
       "      <th>marital_status</th>\n",
       "      <th>income</th>\n",
       "      <th>...</th>\n",
       "      <th>days_since_prior_order</th>\n",
       "      <th>add_to_cart_order</th>\n",
       "      <th>reordered</th>\n",
       "      <th>_merge</th>\n",
       "      <th>max_order</th>\n",
       "      <th>loyalty_flag</th>\n",
       "      <th>avg_price</th>\n",
       "      <th>spending_flag</th>\n",
       "      <th>frequency</th>\n",
       "      <th>frequency_flag</th>\n",
       "    </tr>\n",
       "  </thead>\n",
       "  <tbody>\n",
       "    <tr>\n",
       "      <th>0</th>\n",
       "      <td>26711</td>\n",
       "      <td>Deborah</td>\n",
       "      <td>Esquivel</td>\n",
       "      <td>Female</td>\n",
       "      <td>Missouri</td>\n",
       "      <td>48</td>\n",
       "      <td>1/1/2017</td>\n",
       "      <td>3</td>\n",
       "      <td>married</td>\n",
       "      <td>165665</td>\n",
       "      <td>...</td>\n",
       "      <td>30.0</td>\n",
       "      <td>2</td>\n",
       "      <td>0</td>\n",
       "      <td>both</td>\n",
       "      <td>8</td>\n",
       "      <td>New customer</td>\n",
       "      <td>7.988889</td>\n",
       "      <td>Low spender</td>\n",
       "      <td>19.0</td>\n",
       "      <td>Regular customer</td>\n",
       "    </tr>\n",
       "    <tr>\n",
       "      <th>1</th>\n",
       "      <td>26711</td>\n",
       "      <td>Deborah</td>\n",
       "      <td>Esquivel</td>\n",
       "      <td>Female</td>\n",
       "      <td>Missouri</td>\n",
       "      <td>48</td>\n",
       "      <td>1/1/2017</td>\n",
       "      <td>3</td>\n",
       "      <td>married</td>\n",
       "      <td>165665</td>\n",
       "      <td>...</td>\n",
       "      <td>11.0</td>\n",
       "      <td>1</td>\n",
       "      <td>1</td>\n",
       "      <td>both</td>\n",
       "      <td>8</td>\n",
       "      <td>New customer</td>\n",
       "      <td>7.988889</td>\n",
       "      <td>Low spender</td>\n",
       "      <td>19.0</td>\n",
       "      <td>Regular customer</td>\n",
       "    </tr>\n",
       "    <tr>\n",
       "      <th>2</th>\n",
       "      <td>26711</td>\n",
       "      <td>Deborah</td>\n",
       "      <td>Esquivel</td>\n",
       "      <td>Female</td>\n",
       "      <td>Missouri</td>\n",
       "      <td>48</td>\n",
       "      <td>1/1/2017</td>\n",
       "      <td>3</td>\n",
       "      <td>married</td>\n",
       "      <td>165665</td>\n",
       "      <td>...</td>\n",
       "      <td>10.0</td>\n",
       "      <td>2</td>\n",
       "      <td>1</td>\n",
       "      <td>both</td>\n",
       "      <td>8</td>\n",
       "      <td>New customer</td>\n",
       "      <td>7.988889</td>\n",
       "      <td>Low spender</td>\n",
       "      <td>19.0</td>\n",
       "      <td>Regular customer</td>\n",
       "    </tr>\n",
       "    <tr>\n",
       "      <th>3</th>\n",
       "      <td>26711</td>\n",
       "      <td>Deborah</td>\n",
       "      <td>Esquivel</td>\n",
       "      <td>Female</td>\n",
       "      <td>Missouri</td>\n",
       "      <td>48</td>\n",
       "      <td>1/1/2017</td>\n",
       "      <td>3</td>\n",
       "      <td>married</td>\n",
       "      <td>165665</td>\n",
       "      <td>...</td>\n",
       "      <td>NaN</td>\n",
       "      <td>1</td>\n",
       "      <td>0</td>\n",
       "      <td>both</td>\n",
       "      <td>8</td>\n",
       "      <td>New customer</td>\n",
       "      <td>7.988889</td>\n",
       "      <td>Low spender</td>\n",
       "      <td>19.0</td>\n",
       "      <td>Regular customer</td>\n",
       "    </tr>\n",
       "    <tr>\n",
       "      <th>4</th>\n",
       "      <td>26711</td>\n",
       "      <td>Deborah</td>\n",
       "      <td>Esquivel</td>\n",
       "      <td>Female</td>\n",
       "      <td>Missouri</td>\n",
       "      <td>48</td>\n",
       "      <td>1/1/2017</td>\n",
       "      <td>3</td>\n",
       "      <td>married</td>\n",
       "      <td>165665</td>\n",
       "      <td>...</td>\n",
       "      <td>30.0</td>\n",
       "      <td>2</td>\n",
       "      <td>1</td>\n",
       "      <td>both</td>\n",
       "      <td>8</td>\n",
       "      <td>New customer</td>\n",
       "      <td>7.988889</td>\n",
       "      <td>Low spender</td>\n",
       "      <td>19.0</td>\n",
       "      <td>Regular customer</td>\n",
       "    </tr>\n",
       "    <tr>\n",
       "      <th>5</th>\n",
       "      <td>26711</td>\n",
       "      <td>Deborah</td>\n",
       "      <td>Esquivel</td>\n",
       "      <td>Female</td>\n",
       "      <td>Missouri</td>\n",
       "      <td>48</td>\n",
       "      <td>1/1/2017</td>\n",
       "      <td>3</td>\n",
       "      <td>married</td>\n",
       "      <td>165665</td>\n",
       "      <td>...</td>\n",
       "      <td>19.0</td>\n",
       "      <td>2</td>\n",
       "      <td>1</td>\n",
       "      <td>both</td>\n",
       "      <td>8</td>\n",
       "      <td>New customer</td>\n",
       "      <td>7.988889</td>\n",
       "      <td>Low spender</td>\n",
       "      <td>19.0</td>\n",
       "      <td>Regular customer</td>\n",
       "    </tr>\n",
       "    <tr>\n",
       "      <th>6</th>\n",
       "      <td>26711</td>\n",
       "      <td>Deborah</td>\n",
       "      <td>Esquivel</td>\n",
       "      <td>Female</td>\n",
       "      <td>Missouri</td>\n",
       "      <td>48</td>\n",
       "      <td>1/1/2017</td>\n",
       "      <td>3</td>\n",
       "      <td>married</td>\n",
       "      <td>165665</td>\n",
       "      <td>...</td>\n",
       "      <td>30.0</td>\n",
       "      <td>1</td>\n",
       "      <td>1</td>\n",
       "      <td>both</td>\n",
       "      <td>8</td>\n",
       "      <td>New customer</td>\n",
       "      <td>7.988889</td>\n",
       "      <td>Low spender</td>\n",
       "      <td>19.0</td>\n",
       "      <td>Regular customer</td>\n",
       "    </tr>\n",
       "    <tr>\n",
       "      <th>7</th>\n",
       "      <td>26711</td>\n",
       "      <td>Deborah</td>\n",
       "      <td>Esquivel</td>\n",
       "      <td>Female</td>\n",
       "      <td>Missouri</td>\n",
       "      <td>48</td>\n",
       "      <td>1/1/2017</td>\n",
       "      <td>3</td>\n",
       "      <td>married</td>\n",
       "      <td>165665</td>\n",
       "      <td>...</td>\n",
       "      <td>21.0</td>\n",
       "      <td>1</td>\n",
       "      <td>1</td>\n",
       "      <td>both</td>\n",
       "      <td>8</td>\n",
       "      <td>New customer</td>\n",
       "      <td>7.988889</td>\n",
       "      <td>Low spender</td>\n",
       "      <td>19.0</td>\n",
       "      <td>Regular customer</td>\n",
       "    </tr>\n",
       "    <tr>\n",
       "      <th>8</th>\n",
       "      <td>26711</td>\n",
       "      <td>Deborah</td>\n",
       "      <td>Esquivel</td>\n",
       "      <td>Female</td>\n",
       "      <td>Missouri</td>\n",
       "      <td>48</td>\n",
       "      <td>1/1/2017</td>\n",
       "      <td>3</td>\n",
       "      <td>married</td>\n",
       "      <td>165665</td>\n",
       "      <td>...</td>\n",
       "      <td>11.0</td>\n",
       "      <td>2</td>\n",
       "      <td>1</td>\n",
       "      <td>both</td>\n",
       "      <td>8</td>\n",
       "      <td>New customer</td>\n",
       "      <td>7.988889</td>\n",
       "      <td>Low spender</td>\n",
       "      <td>19.0</td>\n",
       "      <td>Regular customer</td>\n",
       "    </tr>\n",
       "    <tr>\n",
       "      <th>9</th>\n",
       "      <td>26711</td>\n",
       "      <td>Deborah</td>\n",
       "      <td>Esquivel</td>\n",
       "      <td>Female</td>\n",
       "      <td>Missouri</td>\n",
       "      <td>48</td>\n",
       "      <td>1/1/2017</td>\n",
       "      <td>3</td>\n",
       "      <td>married</td>\n",
       "      <td>165665</td>\n",
       "      <td>...</td>\n",
       "      <td>10.0</td>\n",
       "      <td>3</td>\n",
       "      <td>1</td>\n",
       "      <td>both</td>\n",
       "      <td>8</td>\n",
       "      <td>New customer</td>\n",
       "      <td>7.988889</td>\n",
       "      <td>Low spender</td>\n",
       "      <td>19.0</td>\n",
       "      <td>Regular customer</td>\n",
       "    </tr>\n",
       "  </tbody>\n",
       "</table>\n",
       "<p>10 rows × 30 columns</p>\n",
       "</div>"
      ],
      "text/plain": [
       "   user_id first_name last_name  gender     state  age date_joined  \\\n",
       "0    26711    Deborah  Esquivel  Female  Missouri   48    1/1/2017   \n",
       "1    26711    Deborah  Esquivel  Female  Missouri   48    1/1/2017   \n",
       "2    26711    Deborah  Esquivel  Female  Missouri   48    1/1/2017   \n",
       "3    26711    Deborah  Esquivel  Female  Missouri   48    1/1/2017   \n",
       "4    26711    Deborah  Esquivel  Female  Missouri   48    1/1/2017   \n",
       "5    26711    Deborah  Esquivel  Female  Missouri   48    1/1/2017   \n",
       "6    26711    Deborah  Esquivel  Female  Missouri   48    1/1/2017   \n",
       "7    26711    Deborah  Esquivel  Female  Missouri   48    1/1/2017   \n",
       "8    26711    Deborah  Esquivel  Female  Missouri   48    1/1/2017   \n",
       "9    26711    Deborah  Esquivel  Female  Missouri   48    1/1/2017   \n",
       "\n",
       "   #_of_dependants marital_status  income  ...  days_since_prior_order  \\\n",
       "0                3        married  165665  ...                    30.0   \n",
       "1                3        married  165665  ...                    11.0   \n",
       "2                3        married  165665  ...                    10.0   \n",
       "3                3        married  165665  ...                     NaN   \n",
       "4                3        married  165665  ...                    30.0   \n",
       "5                3        married  165665  ...                    19.0   \n",
       "6                3        married  165665  ...                    30.0   \n",
       "7                3        married  165665  ...                    21.0   \n",
       "8                3        married  165665  ...                    11.0   \n",
       "9                3        married  165665  ...                    10.0   \n",
       "\n",
       "  add_to_cart_order  reordered  _merge  max_order  loyalty_flag avg_price  \\\n",
       "0                 2          0    both          8  New customer  7.988889   \n",
       "1                 1          1    both          8  New customer  7.988889   \n",
       "2                 2          1    both          8  New customer  7.988889   \n",
       "3                 1          0    both          8  New customer  7.988889   \n",
       "4                 2          1    both          8  New customer  7.988889   \n",
       "5                 2          1    both          8  New customer  7.988889   \n",
       "6                 1          1    both          8  New customer  7.988889   \n",
       "7                 1          1    both          8  New customer  7.988889   \n",
       "8                 2          1    both          8  New customer  7.988889   \n",
       "9                 3          1    both          8  New customer  7.988889   \n",
       "\n",
       "   spending_flag  frequency    frequency_flag  \n",
       "0    Low spender       19.0  Regular customer  \n",
       "1    Low spender       19.0  Regular customer  \n",
       "2    Low spender       19.0  Regular customer  \n",
       "3    Low spender       19.0  Regular customer  \n",
       "4    Low spender       19.0  Regular customer  \n",
       "5    Low spender       19.0  Regular customer  \n",
       "6    Low spender       19.0  Regular customer  \n",
       "7    Low spender       19.0  Regular customer  \n",
       "8    Low spender       19.0  Regular customer  \n",
       "9    Low spender       19.0  Regular customer  \n",
       "\n",
       "[10 rows x 30 columns]"
      ]
     },
     "execution_count": 5,
     "metadata": {},
     "output_type": "execute_result"
    }
   ],
   "source": [
    "df.head(10)"
   ]
  },
  {
   "cell_type": "code",
   "execution_count": 23,
   "id": "4da84e73",
   "metadata": {
    "scrolled": true
   },
   "outputs": [
    {
     "name": "stdout",
     "output_type": "stream",
     "text": [
      "user_id\n",
      "first_name\n",
      "last_name\n",
      "gender\n",
      "state\n",
      "age\n",
      "date_joined\n",
      "#_of_dependants\n",
      "marital_status\n",
      "income\n",
      "product_id\n",
      "product_name\n",
      "aisle_id\n",
      "department_id\n",
      "prices\n",
      "order_id\n",
      "eval_set\n",
      "order_number\n",
      "orders_day_of_week\n",
      "order_hour_of_day\n",
      "days_since_prior_order\n",
      "add_to_cart_order\n",
      "reordered\n",
      "_merge\n",
      "max_order\n",
      "loyalty_flag\n",
      "avg_price\n",
      "spending_flag\n",
      "frequency\n",
      "frequency_flag\n"
     ]
    }
   ],
   "source": [
    "# Check names of columns\n",
    "\n",
    "for col in df.columns:\n",
    "    print(col)"
   ]
  },
  {
   "cell_type": "markdown",
   "id": "c621fb2b",
   "metadata": {},
   "source": [
    "### Create a bar graph representing the order day of week"
   ]
  },
  {
   "cell_type": "code",
   "execution_count": 24,
   "id": "ca922dd3",
   "metadata": {},
   "outputs": [
    {
     "data": {
      "image/png": "[encoded data removed]",
      "text/plain": [
       "<Figure size 432x288 with 1 Axes>"
      ]
     },
     "metadata": {
      "needs_background": "light"
     },
     "output_type": "display_data"
    }
   ],
   "source": [
    "bar = df['orders_day_of_week'].value_counts().plot.bar(color =['purple', 'red', 'pink', 'orange', 'yellow', 'green', 'blue'])"
   ]
  },
  {
   "cell_type": "code",
   "execution_count": 32,
   "id": "97830154",
   "metadata": {},
   "outputs": [],
   "source": [
    "# Export the bar chart\n",
    "\n",
    "bar.figure.savefig(os.path.join(path, '4 Analysis', 'Visualizations', 'bar_orders_dow.png'))"
   ]
  },
  {
   "cell_type": "markdown",
   "id": "299453bb",
   "metadata": {},
   "source": [
    "### Create a histogram representing the frequency of the prices of items"
   ]
  },
  {
   "cell_type": "code",
   "execution_count": 26,
   "id": "4e0d27bb",
   "metadata": {},
   "outputs": [
    {
     "data": {
      "text/plain": [
       "<AxesSubplot:ylabel='Frequency'>"
      ]
     },
     "execution_count": 26,
     "metadata": {},
     "output_type": "execute_result"
    },
    {
     "data": {
      "image/png": "[encoded data removed]",
      "text/plain": [
       "<Figure size 432x288 with 1 Axes>"
      ]
     },
     "metadata": {
      "needs_background": "light"
     },
     "output_type": "display_data"
    }
   ],
   "source": [
    "df['prices'].plot.hist(bins = 25)"
   ]
  },
  {
   "cell_type": "code",
   "execution_count": 27,
   "id": "1a3be3d6",
   "metadata": {},
   "outputs": [
    {
     "data": {
      "text/plain": [
       "count    3.062974e+07\n",
       "mean     1.191679e+01\n",
       "std      4.913739e+02\n",
       "min      1.000000e+00\n",
       "25%      4.200000e+00\n",
       "50%      7.400000e+00\n",
       "75%      1.130000e+01\n",
       "max      9.999900e+04\n",
       "Name: prices, dtype: float64"
      ]
     },
     "execution_count": 27,
     "metadata": {},
     "output_type": "execute_result"
    }
   ],
   "source": [
    "# The histogram doesn't look right so we conduct a statistical analysis to further investigate\n",
    "\n",
    "df['prices'].describe()"
   ]
  },
  {
   "cell_type": "markdown",
   "id": "1921158e",
   "metadata": {},
   "source": [
    "#### Further investigation finds that the max value seems to be odd, as there are values above 99,999 which is pretty unrealistic for a grocery store. Assuming the highest price for an item is 100, removing any value above that will make the data more readable in a histogram"
   ]
  },
  {
   "cell_type": "code",
   "execution_count": 29,
   "id": "cf083a94",
   "metadata": {},
   "outputs": [],
   "source": [
    "# Remove any outlier values that within the 'prices' column that are greater than 100\n",
    "\n",
    "df.loc[df['prices']>100, 'prices'] = np.nan"
   ]
  },
  {
   "cell_type": "code",
   "execution_count": 30,
   "id": "4e98215e",
   "metadata": {},
   "outputs": [
    {
     "data": {
      "text/plain": [
       "25.0"
      ]
     },
     "execution_count": 30,
     "metadata": {},
     "output_type": "execute_result"
    }
   ],
   "source": [
    "df['prices'].max()"
   ]
  },
  {
   "cell_type": "markdown",
   "id": "2a868fe3",
   "metadata": {},
   "source": [
    "#### Now we can create a histogram with a more fair representation of the prices of objects"
   ]
  },
  {
   "cell_type": "code",
   "execution_count": 33,
   "id": "674311a9",
   "metadata": {},
   "outputs": [
    {
     "data": {
      "text/plain": [
       "<AxesSubplot:ylabel='Frequency'>"
      ]
     },
     "execution_count": 33,
     "metadata": {},
     "output_type": "execute_result"
    },
    {
     "data": {
      "image/png": "[encoded data removed]",
      "text/plain": [
       "<Figure size 432x288 with 1 Axes>"
      ]
     },
     "metadata": {
      "needs_background": "light"
     },
     "output_type": "display_data"
    }
   ],
   "source": [
    "hist = df['prices'].plot.hist(bins = 70)\n",
    "hist"
   ]
  },
  {
   "cell_type": "code",
   "execution_count": 34,
   "id": "db611f9b",
   "metadata": {},
   "outputs": [],
   "source": [
    "# Export the visualization\n",
    "\n",
    "hist.figure.savefig(os.path.join(path,'4 Analysis','Visualizations','hist_prices.png'))"
   ]
  },
  {
   "cell_type": "markdown",
   "id": "11e9453b",
   "metadata": {},
   "source": [
    "### Create a line chart showing price changes within the day of the week"
   ]
  },
  {
   "cell_type": "code",
   "execution_count": 18,
   "id": "91a28f0b",
   "metadata": {},
   "outputs": [],
   "source": [
    "# Create a subset of the dataset first representing 30% of the sample (as not to overwhelm the CPU due to the large dataset)\n",
    "\n",
    "dev = np.random.rand(len(df)) <= 0.7"
   ]
  },
  {
   "cell_type": "code",
   "execution_count": 19,
   "id": "7ae97d5c",
   "metadata": {},
   "outputs": [],
   "source": [
    "big = df[dev]"
   ]
  },
  {
   "cell_type": "code",
   "execution_count": 20,
   "id": "54bd46a4",
   "metadata": {},
   "outputs": [],
   "source": [
    "small = df[~dev]"
   ]
  },
  {
   "cell_type": "code",
   "execution_count": 38,
   "id": "9e167d63",
   "metadata": {},
   "outputs": [
    {
     "data": {
      "text/plain": [
       "30629741"
      ]
     },
     "execution_count": 38,
     "metadata": {},
     "output_type": "execute_result"
    }
   ],
   "source": [
    "# Check that the dataset matches the addition of each portion of the dataset\n",
    "\n",
    "len(df)"
   ]
  },
  {
   "cell_type": "code",
   "execution_count": 39,
   "id": "4e53a00e",
   "metadata": {},
   "outputs": [
    {
     "data": {
      "text/plain": [
       "30629741"
      ]
     },
     "execution_count": 39,
     "metadata": {},
     "output_type": "execute_result"
    }
   ],
   "source": [
    "len(big) + len(small)"
   ]
  },
  {
   "cell_type": "code",
   "execution_count": 40,
   "id": "9e0576f6",
   "metadata": {},
   "outputs": [],
   "source": [
    "# Assign the smaller subset of the dataset to create the line graph\n",
    "\n",
    "df_2 = small[['orders_day_of_week','prices']]"
   ]
  },
  {
   "cell_type": "code",
   "execution_count": 41,
   "id": "50c34a9e",
   "metadata": {},
   "outputs": [
    {
     "data": {
      "image/png": "[encoded data removed]",
      "text/plain": [
       "<Figure size 432x288 with 1 Axes>"
      ]
     },
     "metadata": {
      "needs_background": "light"
     },
     "output_type": "display_data"
    }
   ],
   "source": [
    "# Create the line graph with the new subset\n",
    "\n",
    "line = sns.lineplot(data = df_2, x = 'orders_day_of_week', y = 'prices')"
   ]
  },
  {
   "cell_type": "code",
   "execution_count": 42,
   "id": "fff2f532",
   "metadata": {},
   "outputs": [],
   "source": [
    "# Export the graph\n",
    "\n",
    "line.figure.savefig(os.path.join(path,'4 Analysis','Visualizations','line_dow.png'))"
   ]
  },
  {
   "cell_type": "markdown",
   "id": "933cbc2f",
   "metadata": {},
   "source": [
    "### You need to provide the Instacart senior stakeholders with descriptive findings about sales. Create a histogram of the “order_hour_of_day” column"
   ]
  },
  {
   "cell_type": "code",
   "execution_count": 10,
   "id": "579e3bde",
   "metadata": {},
   "outputs": [
    {
     "data": {
      "text/plain": [
       "Text(0.5, 0, 'Hour of Day')"
      ]
     },
     "execution_count": 10,
     "metadata": {},
     "output_type": "execute_result"
    },
    {
     "data": {
      "image/png": "[encoded data removed]",
      "text/plain": [
       "<Figure size 720x432 with 1 Axes>"
      ]
     },
     "metadata": {
      "needs_background": "light"
     },
     "output_type": "display_data"
    }
   ],
   "source": [
    "hist1 = df['order_hour_of_day'].plot.hist(bins=24,figsize=(10,6))\n",
    "plt.title('Number of Orders during Day',fontsize=20)\n",
    "plt.ylabel('Number of Orders',fontsize=14)\n",
    "plt.xlabel('Hour of Day',fontsize=14)"
   ]
  },
  {
   "cell_type": "code",
   "execution_count": 12,
   "id": "5caf08cc",
   "metadata": {},
   "outputs": [],
   "source": [
    "hist1.figure.savefig(os.path.join(path,'4 Analysis','Visualizations','hist_hour_of_day.png'))"
   ]
  },
  {
   "cell_type": "markdown",
   "id": "83d5acd0",
   "metadata": {},
   "source": [
    "#### The most popular hours that instacart is used starts from 9AM - about 5PM, then starts to dwindle down for the night. This graph makes sense because grocery stores don't open until about 6AM anyway (other than some 24/7 stores) and most people won't really need to do their groceries until a few hours after they open"
   ]
  },
  {
   "cell_type": "markdown",
   "id": "e4f7c7b7",
   "metadata": {},
   "source": [
    "### The marketing team is curious about the distribution of orders among customers in terms of loyalty. Create a bar chart from the “loyalty_flag” column"
   ]
  },
  {
   "cell_type": "code",
   "execution_count": 15,
   "id": "ec5babb7",
   "metadata": {},
   "outputs": [
    {
     "data": {
      "text/plain": [
       "(array([0, 1, 2]),\n",
       " [Text(0, 0, 'Regular customer'),\n",
       "  Text(1, 0, 'Loyal customer'),\n",
       "  Text(2, 0, 'New customer')])"
      ]
     },
     "execution_count": 15,
     "metadata": {},
     "output_type": "execute_result"
    },
    {
     "data": {
      "image/png": "[encoded data removed]",
      "text/plain": [
       "<Figure size 720x432 with 1 Axes>"
      ]
     },
     "metadata": {
      "needs_background": "light"
     },
     "output_type": "display_data"
    }
   ],
   "source": [
    "bar1 = df['loyalty_flag'].value_counts().plot.bar(figsize=(10,6), color=['green','yellow','blue'])\n",
    "plt.title('Number of Purchases based on Customer Loyalty Status',fontsize=20)\n",
    "plt.ylabel('Number of Purchases (in Millions)',fontsize=14)\n",
    "plt.xlabel('Customer Status',fontsize=14)\n",
    "plt.xticks(rotation=0,fontsize=12)"
   ]
  },
  {
   "cell_type": "code",
   "execution_count": 16,
   "id": "3a4c508e",
   "metadata": {},
   "outputs": [],
   "source": [
    "bar1.figure.savefig(os.path.join(path,'4 Analysis','Visualizations','bar_loyalty.png'))"
   ]
  },
  {
   "cell_type": "markdown",
   "id": "c60cb1c8",
   "metadata": {},
   "source": [
    "### Check whether there’s a difference in expenditure (the “prices” column) depending on the hour of the day. (Hint: To check this, you need to use an accurate sample for your line chart!)"
   ]
  },
  {
   "cell_type": "code",
   "execution_count": 21,
   "id": "c2d0a13b",
   "metadata": {},
   "outputs": [],
   "source": [
    "df_3 = small[['order_hour_of_day','prices']]"
   ]
  },
  {
   "cell_type": "code",
   "execution_count": 22,
   "id": "85e6bec2",
   "metadata": {},
   "outputs": [
    {
     "data": {
      "image/png": "[encoded data removed]",
      "text/plain": [
       "<Figure size 432x288 with 1 Axes>"
      ]
     },
     "metadata": {
      "needs_background": "light"
     },
     "output_type": "display_data"
    }
   ],
   "source": [
    "line1 = sns.lineplot(data = df_3, x = 'order_hour_of_day', y = 'prices')"
   ]
  },
  {
   "cell_type": "code",
   "execution_count": 23,
   "id": "07a26c04",
   "metadata": {},
   "outputs": [],
   "source": [
    "line1.figure.savefig(os.path.join(path,'4 Analysis','Visualizations','line_hour_of_day_prices.png'))"
   ]
  },
  {
   "cell_type": "markdown",
   "id": "5df662e3",
   "metadata": {},
   "source": [
    "### Now that you have information about customers, you need to conduct some exploratory analysis of customer demographics to inform the targeted marketing campaigns. First, determine whether there’s a connection between age and family situation by creating a line chart exploring the connections between age and number of dependents"
   ]
  },
  {
   "cell_type": "code",
   "execution_count": 24,
   "id": "fd2b8638",
   "metadata": {},
   "outputs": [],
   "source": [
    "df_4 = small[['age','#_of_dependants']]"
   ]
  },
  {
   "cell_type": "code",
   "execution_count": 25,
   "id": "1000f5d0",
   "metadata": {},
   "outputs": [
    {
     "data": {
      "image/png": "[encoded data removed]",
      "text/plain": [
       "<Figure size 432x288 with 1 Axes>"
      ]
     },
     "metadata": {
      "needs_background": "light"
     },
     "output_type": "display_data"
    }
   ],
   "source": [
    "line2 = sns.lineplot(data = df_4, x = 'age', y = '#_of_dependants')"
   ]
  },
  {
   "cell_type": "code",
   "execution_count": 26,
   "id": "c956bd5a",
   "metadata": {},
   "outputs": [],
   "source": [
    "line2.figure.savefig(os.path.join(path,'4 Analysis','Visualizations','line_dependents_age.png'))"
   ]
  },
  {
   "cell_type": "markdown",
   "id": "9fdc9028",
   "metadata": {},
   "source": [
    "#### There doesn't seem to be any direct correlations between age and number of dependents. There are some outliers like the age 60 where there seems to be the highest amount of dependents, but also after 60 seems to have the lowest for some reason"
   ]
  },
  {
   "cell_type": "markdown",
   "id": "35715a16",
   "metadata": {},
   "source": [
    "### You’ll also need to explore whether there’s a connection between age and spending power (income). To visualize this relationship, create a scatterplot using the sns.scatterplot() function"
   ]
  },
  {
   "cell_type": "code",
   "execution_count": 29,
   "id": "01dc8a7a",
   "metadata": {},
   "outputs": [
    {
     "data": {
      "image/png": "[encoded data removed]",
      "text/plain": [
       "<Figure size 432x288 with 1 Axes>"
      ]
     },
     "metadata": {
      "needs_background": "light"
     },
     "output_type": "display_data"
    }
   ],
   "source": [
    "scatterplot1 = sns.scatterplot(x = 'age',y='income',data = df)"
   ]
  },
  {
   "cell_type": "code",
   "execution_count": null,
   "id": "699f9882",
   "metadata": {},
   "outputs": [],
   "source": [
    "scatterplot1.figure.savefig(os.path.join(path,'4 Analysis','Visualizations','scatterplot_age_income.png'))"
   ]
  },
  {
   "cell_type": "markdown",
   "id": "ba70f71c",
   "metadata": {},
   "source": [
    "#### There is a positive correlation between income and age, as there are people with higher incomes within the older populations"
   ]
  },
  {
   "cell_type": "code",
   "execution_count": null,
   "id": "623ca086",
   "metadata": {},
   "outputs": [],
   "source": []
  }
 ],
 "metadata": {
  "kernelspec": {
   "display_name": "Python 3 (ipykernel)",
   "language": "python",
   "name": "python3"
  },
  "language_info": {
   "codemirror_mode": {
    "name": "ipython",
    "version": 3
   },
   "file_extension": ".py",
   "mimetype": "text/x-python",
   "name": "python",
   "nbconvert_exporter": "python",
   "pygments_lexer": "ipython3",
   "version": "3.9.7"
  }
 },
 "nbformat": 4,
 "nbformat_minor": 5
}
