{
 "cells": [
  {
   "cell_type": "markdown",
   "id": "f988a608",
   "metadata": {},
   "source": [
    "# Import data and libraries"
   ]
  },
  {
   "cell_type": "code",
   "execution_count": 1,
   "id": "185da483",
   "metadata": {},
   "outputs": [],
   "source": [
    "import pandas as pd\n",
    "import numpy as np\n",
    "import os\n",
    "import matplotlib.pyplot as plt\n",
    "import seaborn as sns\n",
    "import scipy"
   ]
  },
  {
   "cell_type": "code",
   "execution_count": 210,
   "id": "f19b5092",
   "metadata": {},
   "outputs": [],
   "source": [
    "path = r'C:\\Users\\Lapis Lazuli\\Documents\\Python Projects\\CareerFoundry'"
   ]
  },
  {
   "cell_type": "code",
   "execution_count": 3,
   "id": "26e5d950",
   "metadata": {},
   "outputs": [],
   "source": [
    "df = pd.read_pickle(os.path.join(path, '2 Data','Prepared Data','ords_prods_cust_merged.pkl'))"
   ]
  },
  {
   "cell_type": "code",
   "execution_count": 4,
   "id": "0053c3b8",
   "metadata": {},
   "outputs": [],
   "source": [
    "df_dep = pd.read_csv(os.path.join(path, '2 Data','departments_wrangled.csv'), index_col = False)"
   ]
  },
  {
   "cell_type": "markdown",
   "id": "6d77b2b9",
   "metadata": {},
   "source": [
    "### Check that the data was imported correctly"
   ]
  },
  {
   "cell_type": "code",
   "execution_count": 5,
   "id": "dbbfd368",
   "metadata": {},
   "outputs": [
    {
     "data": {
      "text/html": [
       "<div>\n",
       "<style scoped>\n",
       "    .dataframe tbody tr th:only-of-type {\n",
       "        vertical-align: middle;\n",
       "    }\n",
       "\n",
       "    .dataframe tbody tr th {\n",
       "        vertical-align: top;\n",
       "    }\n",
       "\n",
       "    .dataframe thead th {\n",
       "        text-align: right;\n",
       "    }\n",
       "</style>\n",
       "<table border=\"1\" class=\"dataframe\">\n",
       "  <thead>\n",
       "    <tr style=\"text-align: right;\">\n",
       "      <th></th>\n",
       "      <th>user_id</th>\n",
       "      <th>first_name</th>\n",
       "      <th>last_name</th>\n",
       "      <th>gender</th>\n",
       "      <th>state</th>\n",
       "      <th>age</th>\n",
       "      <th>date_joined</th>\n",
       "      <th>#_of_dependants</th>\n",
       "      <th>marital_status</th>\n",
       "      <th>income</th>\n",
       "      <th>...</th>\n",
       "      <th>days_since_prior_order</th>\n",
       "      <th>add_to_cart_order</th>\n",
       "      <th>reordered</th>\n",
       "      <th>_merge</th>\n",
       "      <th>max_order</th>\n",
       "      <th>loyalty_flag</th>\n",
       "      <th>avg_price</th>\n",
       "      <th>spending_flag</th>\n",
       "      <th>frequency</th>\n",
       "      <th>frequency_flag</th>\n",
       "    </tr>\n",
       "  </thead>\n",
       "  <tbody>\n",
       "    <tr>\n",
       "      <th>0</th>\n",
       "      <td>26711</td>\n",
       "      <td>Deborah</td>\n",
       "      <td>Esquivel</td>\n",
       "      <td>Female</td>\n",
       "      <td>Missouri</td>\n",
       "      <td>48</td>\n",
       "      <td>1/1/2017</td>\n",
       "      <td>3</td>\n",
       "      <td>married</td>\n",
       "      <td>165665</td>\n",
       "      <td>...</td>\n",
       "      <td>30.0</td>\n",
       "      <td>2</td>\n",
       "      <td>0</td>\n",
       "      <td>both</td>\n",
       "      <td>8</td>\n",
       "      <td>New customer</td>\n",
       "      <td>7.988889</td>\n",
       "      <td>Low spender</td>\n",
       "      <td>19.0</td>\n",
       "      <td>Regular customer</td>\n",
       "    </tr>\n",
       "    <tr>\n",
       "      <th>1</th>\n",
       "      <td>26711</td>\n",
       "      <td>Deborah</td>\n",
       "      <td>Esquivel</td>\n",
       "      <td>Female</td>\n",
       "      <td>Missouri</td>\n",
       "      <td>48</td>\n",
       "      <td>1/1/2017</td>\n",
       "      <td>3</td>\n",
       "      <td>married</td>\n",
       "      <td>165665</td>\n",
       "      <td>...</td>\n",
       "      <td>11.0</td>\n",
       "      <td>1</td>\n",
       "      <td>1</td>\n",
       "      <td>both</td>\n",
       "      <td>8</td>\n",
       "      <td>New customer</td>\n",
       "      <td>7.988889</td>\n",
       "      <td>Low spender</td>\n",
       "      <td>19.0</td>\n",
       "      <td>Regular customer</td>\n",
       "    </tr>\n",
       "    <tr>\n",
       "      <th>2</th>\n",
       "      <td>26711</td>\n",
       "      <td>Deborah</td>\n",
       "      <td>Esquivel</td>\n",
       "      <td>Female</td>\n",
       "      <td>Missouri</td>\n",
       "      <td>48</td>\n",
       "      <td>1/1/2017</td>\n",
       "      <td>3</td>\n",
       "      <td>married</td>\n",
       "      <td>165665</td>\n",
       "      <td>...</td>\n",
       "      <td>10.0</td>\n",
       "      <td>2</td>\n",
       "      <td>1</td>\n",
       "      <td>both</td>\n",
       "      <td>8</td>\n",
       "      <td>New customer</td>\n",
       "      <td>7.988889</td>\n",
       "      <td>Low spender</td>\n",
       "      <td>19.0</td>\n",
       "      <td>Regular customer</td>\n",
       "    </tr>\n",
       "    <tr>\n",
       "      <th>3</th>\n",
       "      <td>26711</td>\n",
       "      <td>Deborah</td>\n",
       "      <td>Esquivel</td>\n",
       "      <td>Female</td>\n",
       "      <td>Missouri</td>\n",
       "      <td>48</td>\n",
       "      <td>1/1/2017</td>\n",
       "      <td>3</td>\n",
       "      <td>married</td>\n",
       "      <td>165665</td>\n",
       "      <td>...</td>\n",
       "      <td>NaN</td>\n",
       "      <td>1</td>\n",
       "      <td>0</td>\n",
       "      <td>both</td>\n",
       "      <td>8</td>\n",
       "      <td>New customer</td>\n",
       "      <td>7.988889</td>\n",
       "      <td>Low spender</td>\n",
       "      <td>19.0</td>\n",
       "      <td>Regular customer</td>\n",
       "    </tr>\n",
       "    <tr>\n",
       "      <th>4</th>\n",
       "      <td>26711</td>\n",
       "      <td>Deborah</td>\n",
       "      <td>Esquivel</td>\n",
       "      <td>Female</td>\n",
       "      <td>Missouri</td>\n",
       "      <td>48</td>\n",
       "      <td>1/1/2017</td>\n",
       "      <td>3</td>\n",
       "      <td>married</td>\n",
       "      <td>165665</td>\n",
       "      <td>...</td>\n",
       "      <td>30.0</td>\n",
       "      <td>2</td>\n",
       "      <td>1</td>\n",
       "      <td>both</td>\n",
       "      <td>8</td>\n",
       "      <td>New customer</td>\n",
       "      <td>7.988889</td>\n",
       "      <td>Low spender</td>\n",
       "      <td>19.0</td>\n",
       "      <td>Regular customer</td>\n",
       "    </tr>\n",
       "  </tbody>\n",
       "</table>\n",
       "<p>5 rows × 30 columns</p>\n",
       "</div>"
      ],
      "text/plain": [
       "   user_id first_name last_name  gender     state  age date_joined  \\\n",
       "0    26711    Deborah  Esquivel  Female  Missouri   48    1/1/2017   \n",
       "1    26711    Deborah  Esquivel  Female  Missouri   48    1/1/2017   \n",
       "2    26711    Deborah  Esquivel  Female  Missouri   48    1/1/2017   \n",
       "3    26711    Deborah  Esquivel  Female  Missouri   48    1/1/2017   \n",
       "4    26711    Deborah  Esquivel  Female  Missouri   48    1/1/2017   \n",
       "\n",
       "   #_of_dependants marital_status  income  ...  days_since_prior_order  \\\n",
       "0                3        married  165665  ...                    30.0   \n",
       "1                3        married  165665  ...                    11.0   \n",
       "2                3        married  165665  ...                    10.0   \n",
       "3                3        married  165665  ...                     NaN   \n",
       "4                3        married  165665  ...                    30.0   \n",
       "\n",
       "  add_to_cart_order  reordered  _merge  max_order  loyalty_flag avg_price  \\\n",
       "0                 2          0    both          8  New customer  7.988889   \n",
       "1                 1          1    both          8  New customer  7.988889   \n",
       "2                 2          1    both          8  New customer  7.988889   \n",
       "3                 1          0    both          8  New customer  7.988889   \n",
       "4                 2          1    both          8  New customer  7.988889   \n",
       "\n",
       "   spending_flag  frequency    frequency_flag  \n",
       "0    Low spender       19.0  Regular customer  \n",
       "1    Low spender       19.0  Regular customer  \n",
       "2    Low spender       19.0  Regular customer  \n",
       "3    Low spender       19.0  Regular customer  \n",
       "4    Low spender       19.0  Regular customer  \n",
       "\n",
       "[5 rows x 30 columns]"
      ]
     },
     "execution_count": 5,
     "metadata": {},
     "output_type": "execute_result"
    }
   ],
   "source": [
    "df.head(5)"
   ]
  },
  {
   "cell_type": "code",
   "execution_count": 6,
   "id": "dd6613db",
   "metadata": {},
   "outputs": [
    {
     "data": {
      "text/plain": [
       "(30629741, 30)"
      ]
     },
     "execution_count": 6,
     "metadata": {},
     "output_type": "execute_result"
    }
   ],
   "source": [
    "df.shape"
   ]
  },
  {
   "cell_type": "code",
   "execution_count": 7,
   "id": "c0ea988c",
   "metadata": {},
   "outputs": [
    {
     "data": {
      "text/plain": [
       "Index(['user_id', 'first_name', 'last_name', 'gender', 'state', 'age',\n",
       "       'date_joined', '#_of_dependants', 'marital_status', 'income',\n",
       "       'product_id', 'product_name', 'aisle_id', 'department_id', 'prices',\n",
       "       'order_id', 'eval_set', 'order_number', 'orders_day_of_week',\n",
       "       'order_hour_of_day', 'days_since_prior_order', 'add_to_cart_order',\n",
       "       'reordered', '_merge', 'max_order', 'loyalty_flag', 'avg_price',\n",
       "       'spending_flag', 'frequency', 'frequency_flag'],\n",
       "      dtype='object')"
      ]
     },
     "execution_count": 7,
     "metadata": {},
     "output_type": "execute_result"
    }
   ],
   "source": [
    "df.columns"
   ]
  },
  {
   "cell_type": "code",
   "execution_count": 8,
   "id": "b909f5e3",
   "metadata": {},
   "outputs": [],
   "source": [
    "# We'll use a random sample of 70% of the data to not overwhelm any RAM usage and make visualizations load faster\n",
    "\n",
    "np.random.seed(4)\n",
    "dev = np.random.rand(len(df)) <= 0.7\n",
    "big = df[dev]\n",
    "small = df[~dev]\n",
    "\n",
    "df = small"
   ]
  },
  {
   "cell_type": "code",
   "execution_count": 9,
   "id": "012edcf6",
   "metadata": {},
   "outputs": [
    {
     "data": {
      "text/plain": [
       "(9187984, 30)"
      ]
     },
     "execution_count": 9,
     "metadata": {},
     "output_type": "execute_result"
    }
   ],
   "source": [
    "df.shape"
   ]
  },
  {
   "cell_type": "markdown",
   "id": "949b6d66",
   "metadata": {},
   "source": [
    "### Consider any security implications that might exist for this new data"
   ]
  },
  {
   "cell_type": "markdown",
   "id": "5371ff19",
   "metadata": {},
   "source": [
    "#### The first and last name of the customer along with their associated information can be traced, including things like their location. Removing the name columns (or even just the last name) is a potential solution to ensure that the customer's privacy is respected"
   ]
  },
  {
   "cell_type": "code",
   "execution_count": 10,
   "id": "e2aa7133",
   "metadata": {},
   "outputs": [],
   "source": [
    "# Drop the first and last name colunms\n",
    "\n",
    "df = df.drop(columns = ['first_name', 'last_name'])"
   ]
  },
  {
   "cell_type": "code",
   "execution_count": 11,
   "id": "07f2aebf",
   "metadata": {},
   "outputs": [
    {
     "data": {
      "text/plain": [
       "Index(['user_id', 'gender', 'state', 'age', 'date_joined', '#_of_dependants',\n",
       "       'marital_status', 'income', 'product_id', 'product_name', 'aisle_id',\n",
       "       'department_id', 'prices', 'order_id', 'eval_set', 'order_number',\n",
       "       'orders_day_of_week', 'order_hour_of_day', 'days_since_prior_order',\n",
       "       'add_to_cart_order', 'reordered', '_merge', 'max_order', 'loyalty_flag',\n",
       "       'avg_price', 'spending_flag', 'frequency', 'frequency_flag'],\n",
       "      dtype='object')"
      ]
     },
     "execution_count": 11,
     "metadata": {},
     "output_type": "execute_result"
    }
   ],
   "source": [
    "# Check that the function worked properly\n",
    "\n",
    "df.columns"
   ]
  },
  {
   "cell_type": "markdown",
   "id": "dc9ac177",
   "metadata": {},
   "source": [
    "### Create a regional segmentation of the data"
   ]
  },
  {
   "cell_type": "code",
   "execution_count": 12,
   "id": "45d029a5",
   "metadata": {
    "scrolled": true
   },
   "outputs": [
    {
     "data": {
      "text/plain": [
       "Pennsylvania            189504\n",
       "California              189106\n",
       "Rhode Island            186355\n",
       "Georgia                 186080\n",
       "Arizona                 185926\n",
       "North Carolina          185065\n",
       "Oklahoma                184128\n",
       "Minnesota               183646\n",
       "New Mexico              183578\n",
       "Alaska                  183158\n",
       "Maine                   182884\n",
       "Wyoming                 182733\n",
       "Massachusetts           182499\n",
       "Mississippi             181929\n",
       "Texas                   181838\n",
       "Arkansas                181785\n",
       "Nevada                  181691\n",
       "North Dakota            181625\n",
       "Virginia                181581\n",
       "Missouri                181305\n",
       "South Dakota            181116\n",
       "Louisiana               181060\n",
       "South Carolina          180982\n",
       "Washington              180803\n",
       "Alabama                 180780\n",
       "Kansas                  180637\n",
       "Michigan                180636\n",
       "Colorado                180482\n",
       "Oregon                  180202\n",
       "New York                180194\n",
       "Kentucky                180166\n",
       "Montana                 180114\n",
       "Delaware                179925\n",
       "Indiana                 178688\n",
       "Connecticut             178626\n",
       "Hawaii                  177758\n",
       "Ohio                    177661\n",
       "Illinois                177525\n",
       "Iowa                    177403\n",
       "New Jersey              177071\n",
       "Florida                 176994\n",
       "Maryland                176341\n",
       "Nebraska                176264\n",
       "New Hampshire           175656\n",
       "Wisconsin               175575\n",
       "Tennessee               174459\n",
       "Vermont                 173890\n",
       "Utah                    173699\n",
       "West Virginia           173475\n",
       "District of Columbia    172012\n",
       "Idaho                   171374\n",
       "Name: state, dtype: int64"
      ]
     },
     "execution_count": 12,
     "metadata": {},
     "output_type": "execute_result"
    }
   ],
   "source": [
    "# Check the state column\n",
    "\n",
    "df['state'].value_counts(dropna = False)"
   ]
  },
  {
   "cell_type": "code",
   "execution_count": 13,
   "id": "0a6e96b1",
   "metadata": {},
   "outputs": [],
   "source": [
    "# Create a list dividing each region\n",
    "\n",
    "north_east_1 = ['Maine','New Hampshire','Vermont','Massachusetts','Rhode Island','Connecticut','New York','Pennsylvania','New Jersey']\n",
    "mid_west_2 = ['Wisconsin','Michigan','Illinois','Indiana','Ohio','North Dakota','South Dakota','Nebraska','Kansas','Minnesota','Iowa','Missouri']\n",
    "south_3 = ['Delaware','Maryland','District of Columbia','Virginia','West Virginia','North Carolina','South Carolina','Georgia','Florida','Kentucky','Tennessee','Mississippi','Alabama','Oklahoma','Texas','Arkansas','Louisiana']\n",
    "west_4 = ['Idaho','Montana','Wyoming','Nevada','Utah','Colorado','Arizona','New Mexico','Alaska','Washington','Oregon','California','Hawaii']"
   ]
  },
  {
   "cell_type": "code",
   "execution_count": 14,
   "id": "428d0ebd",
   "metadata": {},
   "outputs": [],
   "source": [
    "# Assign a new column to the new regions\n",
    "\n",
    "df.loc[df['state'].isin(north_east_1), 'region'] = 'Northeast'\n",
    "df.loc[df['state'].isin(mid_west_2), 'region'] = 'Midwest'\n",
    "df.loc[df['state'].isin(south_3), 'region'] = 'South'\n",
    "df.loc[df['state'].isin(west_4), 'region'] = 'West'"
   ]
  },
  {
   "cell_type": "code",
   "execution_count": 15,
   "id": "1318619a",
   "metadata": {},
   "outputs": [
    {
     "data": {
      "text/plain": [
       "South        3058600\n",
       "West         2350624\n",
       "Midwest      2152081\n",
       "Northeast    1626679\n",
       "Name: region, dtype: int64"
      ]
     },
     "execution_count": 15,
     "metadata": {},
     "output_type": "execute_result"
    }
   ],
   "source": [
    "# Check values within new column\n",
    "\n",
    "df['region'].value_counts(dropna = False)"
   ]
  },
  {
   "cell_type": "markdown",
   "id": "32471d45",
   "metadata": {},
   "source": [
    "### Determine whether there's a difference in spending habits between the different U.S. regions"
   ]
  },
  {
   "cell_type": "code",
   "execution_count": 16,
   "id": "e30d5db0",
   "metadata": {},
   "outputs": [],
   "source": [
    "# Create a crosstab to check spending habits\n",
    "\n",
    "spending_habits = pd.crosstab (df['spending_flag'], df['region'], dropna = False)"
   ]
  },
  {
   "cell_type": "code",
   "execution_count": 17,
   "id": "d08aa69c",
   "metadata": {},
   "outputs": [
    {
     "data": {
      "text/html": [
       "<div>\n",
       "<style scoped>\n",
       "    .dataframe tbody tr th:only-of-type {\n",
       "        vertical-align: middle;\n",
       "    }\n",
       "\n",
       "    .dataframe tbody tr th {\n",
       "        vertical-align: top;\n",
       "    }\n",
       "\n",
       "    .dataframe thead th {\n",
       "        text-align: right;\n",
       "    }\n",
       "</style>\n",
       "<table border=\"1\" class=\"dataframe\">\n",
       "  <thead>\n",
       "    <tr style=\"text-align: right;\">\n",
       "      <th>region</th>\n",
       "      <th>Midwest</th>\n",
       "      <th>Northeast</th>\n",
       "      <th>South</th>\n",
       "      <th>West</th>\n",
       "    </tr>\n",
       "    <tr>\n",
       "      <th>spending_flag</th>\n",
       "      <th></th>\n",
       "      <th></th>\n",
       "      <th></th>\n",
       "      <th></th>\n",
       "    </tr>\n",
       "  </thead>\n",
       "  <tbody>\n",
       "    <tr>\n",
       "      <th>High spender</th>\n",
       "      <td>44623</td>\n",
       "      <td>30475</td>\n",
       "      <td>59157</td>\n",
       "      <td>44158</td>\n",
       "    </tr>\n",
       "    <tr>\n",
       "      <th>Low spender</th>\n",
       "      <td>2107458</td>\n",
       "      <td>1596204</td>\n",
       "      <td>2999443</td>\n",
       "      <td>2306466</td>\n",
       "    </tr>\n",
       "  </tbody>\n",
       "</table>\n",
       "</div>"
      ],
      "text/plain": [
       "region         Midwest  Northeast    South     West\n",
       "spending_flag                                      \n",
       "High spender     44623      30475    59157    44158\n",
       "Low spender    2107458    1596204  2999443  2306466"
      ]
     },
     "execution_count": 17,
     "metadata": {},
     "output_type": "execute_result"
    }
   ],
   "source": [
    "spending_habits"
   ]
  },
  {
   "cell_type": "markdown",
   "id": "afdb464c",
   "metadata": {},
   "source": [
    "#### There seems to be the most amount of high AND low spenders in the south, but considering they make up the most amount of states it makes sense"
   ]
  },
  {
   "cell_type": "markdown",
   "id": "da70bf5c",
   "metadata": {},
   "source": [
    "### The Instacart CFO isn’t interested in customers who don’t generate much revenue for the app. Create an exclusion flag for low-activity customers (customers with less than 5 orders) and exclude them from the data"
   ]
  },
  {
   "cell_type": "code",
   "execution_count": 18,
   "id": "f11b7504",
   "metadata": {},
   "outputs": [
    {
     "data": {
      "text/html": [
       "<div>\n",
       "<style scoped>\n",
       "    .dataframe tbody tr th:only-of-type {\n",
       "        vertical-align: middle;\n",
       "    }\n",
       "\n",
       "    .dataframe tbody tr th {\n",
       "        vertical-align: top;\n",
       "    }\n",
       "\n",
       "    .dataframe thead th {\n",
       "        text-align: right;\n",
       "    }\n",
       "</style>\n",
       "<table border=\"1\" class=\"dataframe\">\n",
       "  <thead>\n",
       "    <tr style=\"text-align: right;\">\n",
       "      <th></th>\n",
       "      <th>user_id</th>\n",
       "      <th>gender</th>\n",
       "      <th>state</th>\n",
       "      <th>age</th>\n",
       "      <th>date_joined</th>\n",
       "      <th>#_of_dependants</th>\n",
       "      <th>marital_status</th>\n",
       "      <th>income</th>\n",
       "      <th>product_id</th>\n",
       "      <th>product_name</th>\n",
       "      <th>...</th>\n",
       "      <th>reordered</th>\n",
       "      <th>_merge</th>\n",
       "      <th>max_order</th>\n",
       "      <th>loyalty_flag</th>\n",
       "      <th>avg_price</th>\n",
       "      <th>spending_flag</th>\n",
       "      <th>frequency</th>\n",
       "      <th>frequency_flag</th>\n",
       "      <th>region</th>\n",
       "      <th>activity_flag</th>\n",
       "    </tr>\n",
       "  </thead>\n",
       "  <tbody>\n",
       "    <tr>\n",
       "      <th>0</th>\n",
       "      <td>26711</td>\n",
       "      <td>Female</td>\n",
       "      <td>Missouri</td>\n",
       "      <td>48</td>\n",
       "      <td>1/1/2017</td>\n",
       "      <td>3</td>\n",
       "      <td>married</td>\n",
       "      <td>165665</td>\n",
       "      <td>196</td>\n",
       "      <td>Soda</td>\n",
       "      <td>...</td>\n",
       "      <td>0</td>\n",
       "      <td>both</td>\n",
       "      <td>8</td>\n",
       "      <td>New customer</td>\n",
       "      <td>7.988889</td>\n",
       "      <td>Low spender</td>\n",
       "      <td>19.0</td>\n",
       "      <td>Regular customer</td>\n",
       "      <td>Midwest</td>\n",
       "      <td>High activity</td>\n",
       "    </tr>\n",
       "    <tr>\n",
       "      <th>2</th>\n",
       "      <td>26711</td>\n",
       "      <td>Female</td>\n",
       "      <td>Missouri</td>\n",
       "      <td>48</td>\n",
       "      <td>1/1/2017</td>\n",
       "      <td>3</td>\n",
       "      <td>married</td>\n",
       "      <td>165665</td>\n",
       "      <td>196</td>\n",
       "      <td>Soda</td>\n",
       "      <td>...</td>\n",
       "      <td>1</td>\n",
       "      <td>both</td>\n",
       "      <td>8</td>\n",
       "      <td>New customer</td>\n",
       "      <td>7.988889</td>\n",
       "      <td>Low spender</td>\n",
       "      <td>19.0</td>\n",
       "      <td>Regular customer</td>\n",
       "      <td>Midwest</td>\n",
       "      <td>High activity</td>\n",
       "    </tr>\n",
       "    <tr>\n",
       "      <th>3</th>\n",
       "      <td>26711</td>\n",
       "      <td>Female</td>\n",
       "      <td>Missouri</td>\n",
       "      <td>48</td>\n",
       "      <td>1/1/2017</td>\n",
       "      <td>3</td>\n",
       "      <td>married</td>\n",
       "      <td>165665</td>\n",
       "      <td>6184</td>\n",
       "      <td>Clementines</td>\n",
       "      <td>...</td>\n",
       "      <td>0</td>\n",
       "      <td>both</td>\n",
       "      <td>8</td>\n",
       "      <td>New customer</td>\n",
       "      <td>7.988889</td>\n",
       "      <td>Low spender</td>\n",
       "      <td>19.0</td>\n",
       "      <td>Regular customer</td>\n",
       "      <td>Midwest</td>\n",
       "      <td>High activity</td>\n",
       "    </tr>\n",
       "    <tr>\n",
       "      <th>6</th>\n",
       "      <td>26711</td>\n",
       "      <td>Female</td>\n",
       "      <td>Missouri</td>\n",
       "      <td>48</td>\n",
       "      <td>1/1/2017</td>\n",
       "      <td>3</td>\n",
       "      <td>married</td>\n",
       "      <td>165665</td>\n",
       "      <td>6184</td>\n",
       "      <td>Clementines</td>\n",
       "      <td>...</td>\n",
       "      <td>1</td>\n",
       "      <td>both</td>\n",
       "      <td>8</td>\n",
       "      <td>New customer</td>\n",
       "      <td>7.988889</td>\n",
       "      <td>Low spender</td>\n",
       "      <td>19.0</td>\n",
       "      <td>Regular customer</td>\n",
       "      <td>Midwest</td>\n",
       "      <td>High activity</td>\n",
       "    </tr>\n",
       "    <tr>\n",
       "      <th>10</th>\n",
       "      <td>26711</td>\n",
       "      <td>Female</td>\n",
       "      <td>Missouri</td>\n",
       "      <td>48</td>\n",
       "      <td>1/1/2017</td>\n",
       "      <td>3</td>\n",
       "      <td>married</td>\n",
       "      <td>165665</td>\n",
       "      <td>8617</td>\n",
       "      <td>Assorted Nuggets</td>\n",
       "      <td>...</td>\n",
       "      <td>0</td>\n",
       "      <td>both</td>\n",
       "      <td>8</td>\n",
       "      <td>New customer</td>\n",
       "      <td>7.988889</td>\n",
       "      <td>Low spender</td>\n",
       "      <td>19.0</td>\n",
       "      <td>Regular customer</td>\n",
       "      <td>Midwest</td>\n",
       "      <td>High activity</td>\n",
       "    </tr>\n",
       "    <tr>\n",
       "      <th>12</th>\n",
       "      <td>26711</td>\n",
       "      <td>Female</td>\n",
       "      <td>Missouri</td>\n",
       "      <td>48</td>\n",
       "      <td>1/1/2017</td>\n",
       "      <td>3</td>\n",
       "      <td>married</td>\n",
       "      <td>165665</td>\n",
       "      <td>38928</td>\n",
       "      <td>0% Greek Strained Yogurt</td>\n",
       "      <td>...</td>\n",
       "      <td>1</td>\n",
       "      <td>both</td>\n",
       "      <td>8</td>\n",
       "      <td>New customer</td>\n",
       "      <td>7.988889</td>\n",
       "      <td>Low spender</td>\n",
       "      <td>19.0</td>\n",
       "      <td>Regular customer</td>\n",
       "      <td>Midwest</td>\n",
       "      <td>High activity</td>\n",
       "    </tr>\n",
       "    <tr>\n",
       "      <th>13</th>\n",
       "      <td>26711</td>\n",
       "      <td>Female</td>\n",
       "      <td>Missouri</td>\n",
       "      <td>48</td>\n",
       "      <td>1/1/2017</td>\n",
       "      <td>3</td>\n",
       "      <td>married</td>\n",
       "      <td>165665</td>\n",
       "      <td>38928</td>\n",
       "      <td>0% Greek Strained Yogurt</td>\n",
       "      <td>...</td>\n",
       "      <td>1</td>\n",
       "      <td>both</td>\n",
       "      <td>8</td>\n",
       "      <td>New customer</td>\n",
       "      <td>7.988889</td>\n",
       "      <td>Low spender</td>\n",
       "      <td>19.0</td>\n",
       "      <td>Regular customer</td>\n",
       "      <td>Midwest</td>\n",
       "      <td>High activity</td>\n",
       "    </tr>\n",
       "    <tr>\n",
       "      <th>19</th>\n",
       "      <td>33890</td>\n",
       "      <td>Female</td>\n",
       "      <td>New Mexico</td>\n",
       "      <td>36</td>\n",
       "      <td>1/1/2017</td>\n",
       "      <td>0</td>\n",
       "      <td>single</td>\n",
       "      <td>59285</td>\n",
       "      <td>196</td>\n",
       "      <td>Soda</td>\n",
       "      <td>...</td>\n",
       "      <td>1</td>\n",
       "      <td>both</td>\n",
       "      <td>12</td>\n",
       "      <td>Regular customer</td>\n",
       "      <td>7.057534</td>\n",
       "      <td>Low spender</td>\n",
       "      <td>26.0</td>\n",
       "      <td>Non-frequent customer</td>\n",
       "      <td>West</td>\n",
       "      <td>High activity</td>\n",
       "    </tr>\n",
       "    <tr>\n",
       "      <th>21</th>\n",
       "      <td>33890</td>\n",
       "      <td>Female</td>\n",
       "      <td>New Mexico</td>\n",
       "      <td>36</td>\n",
       "      <td>1/1/2017</td>\n",
       "      <td>0</td>\n",
       "      <td>single</td>\n",
       "      <td>59285</td>\n",
       "      <td>890</td>\n",
       "      <td>Organic Diced Tomatoes</td>\n",
       "      <td>...</td>\n",
       "      <td>0</td>\n",
       "      <td>both</td>\n",
       "      <td>12</td>\n",
       "      <td>Regular customer</td>\n",
       "      <td>7.057534</td>\n",
       "      <td>Low spender</td>\n",
       "      <td>26.0</td>\n",
       "      <td>Non-frequent customer</td>\n",
       "      <td>West</td>\n",
       "      <td>High activity</td>\n",
       "    </tr>\n",
       "    <tr>\n",
       "      <th>22</th>\n",
       "      <td>33890</td>\n",
       "      <td>Female</td>\n",
       "      <td>New Mexico</td>\n",
       "      <td>36</td>\n",
       "      <td>1/1/2017</td>\n",
       "      <td>0</td>\n",
       "      <td>single</td>\n",
       "      <td>59285</td>\n",
       "      <td>3298</td>\n",
       "      <td>Mozzarella String Cheese</td>\n",
       "      <td>...</td>\n",
       "      <td>0</td>\n",
       "      <td>both</td>\n",
       "      <td>12</td>\n",
       "      <td>Regular customer</td>\n",
       "      <td>7.057534</td>\n",
       "      <td>Low spender</td>\n",
       "      <td>26.0</td>\n",
       "      <td>Non-frequent customer</td>\n",
       "      <td>West</td>\n",
       "      <td>High activity</td>\n",
       "    </tr>\n",
       "  </tbody>\n",
       "</table>\n",
       "<p>10 rows × 30 columns</p>\n",
       "</div>"
      ],
      "text/plain": [
       "    user_id  gender       state  age date_joined  #_of_dependants  \\\n",
       "0     26711  Female    Missouri   48    1/1/2017                3   \n",
       "2     26711  Female    Missouri   48    1/1/2017                3   \n",
       "3     26711  Female    Missouri   48    1/1/2017                3   \n",
       "6     26711  Female    Missouri   48    1/1/2017                3   \n",
       "10    26711  Female    Missouri   48    1/1/2017                3   \n",
       "12    26711  Female    Missouri   48    1/1/2017                3   \n",
       "13    26711  Female    Missouri   48    1/1/2017                3   \n",
       "19    33890  Female  New Mexico   36    1/1/2017                0   \n",
       "21    33890  Female  New Mexico   36    1/1/2017                0   \n",
       "22    33890  Female  New Mexico   36    1/1/2017                0   \n",
       "\n",
       "   marital_status  income  product_id              product_name  ...  \\\n",
       "0         married  165665         196                      Soda  ...   \n",
       "2         married  165665         196                      Soda  ...   \n",
       "3         married  165665        6184               Clementines  ...   \n",
       "6         married  165665        6184               Clementines  ...   \n",
       "10        married  165665        8617          Assorted Nuggets  ...   \n",
       "12        married  165665       38928  0% Greek Strained Yogurt  ...   \n",
       "13        married  165665       38928  0% Greek Strained Yogurt  ...   \n",
       "19         single   59285         196                      Soda  ...   \n",
       "21         single   59285         890    Organic Diced Tomatoes  ...   \n",
       "22         single   59285        3298  Mozzarella String Cheese  ...   \n",
       "\n",
       "    reordered  _merge  max_order      loyalty_flag avg_price  spending_flag  \\\n",
       "0           0    both          8      New customer  7.988889    Low spender   \n",
       "2           1    both          8      New customer  7.988889    Low spender   \n",
       "3           0    both          8      New customer  7.988889    Low spender   \n",
       "6           1    both          8      New customer  7.988889    Low spender   \n",
       "10          0    both          8      New customer  7.988889    Low spender   \n",
       "12          1    both          8      New customer  7.988889    Low spender   \n",
       "13          1    both          8      New customer  7.988889    Low spender   \n",
       "19          1    both         12  Regular customer  7.057534    Low spender   \n",
       "21          0    both         12  Regular customer  7.057534    Low spender   \n",
       "22          0    both         12  Regular customer  7.057534    Low spender   \n",
       "\n",
       "    frequency         frequency_flag   region  activity_flag  \n",
       "0        19.0       Regular customer  Midwest  High activity  \n",
       "2        19.0       Regular customer  Midwest  High activity  \n",
       "3        19.0       Regular customer  Midwest  High activity  \n",
       "6        19.0       Regular customer  Midwest  High activity  \n",
       "10       19.0       Regular customer  Midwest  High activity  \n",
       "12       19.0       Regular customer  Midwest  High activity  \n",
       "13       19.0       Regular customer  Midwest  High activity  \n",
       "19       26.0  Non-frequent customer     West  High activity  \n",
       "21       26.0  Non-frequent customer     West  High activity  \n",
       "22       26.0  Non-frequent customer     West  High activity  \n",
       "\n",
       "[10 rows x 30 columns]"
      ]
     },
     "execution_count": 18,
     "metadata": {},
     "output_type": "execute_result"
    }
   ],
   "source": [
    "# Creating an activity status flag for customers\n",
    "\n",
    "df.loc[df['max_order']<5, 'activity_flag'] = 'Low activity'\n",
    "df.loc[df['max_order']>=5, 'activity_flag'] = 'High activity'\n",
    "df.head(10)"
   ]
  },
  {
   "cell_type": "code",
   "execution_count": 19,
   "id": "64801ab1",
   "metadata": {},
   "outputs": [],
   "source": [
    "# Exclude low-activity customers from the data\n",
    "\n",
    "df = df[df['activity_flag'] == 'High activity']"
   ]
  },
  {
   "cell_type": "markdown",
   "id": "3a2c29ac",
   "metadata": {},
   "source": [
    "#### From this point on the data will only be using the customers with high activity; this will make sampling easier and the visualizations easier to process"
   ]
  },
  {
   "cell_type": "code",
   "execution_count": 20,
   "id": "9e9499b3",
   "metadata": {},
   "outputs": [],
   "source": [
    "# Export the data\n",
    "\n",
    "#high_activity_df.to_pickle(os.path.join(path, 'Prepared Data','high_activity_df.pkl'))"
   ]
  },
  {
   "cell_type": "markdown",
   "id": "24ba26c3",
   "metadata": {},
   "source": [
    "### Create a profiling variable based on age, income, certain goods in the “department_id” column, and number of dependents"
   ]
  },
  {
   "cell_type": "code",
   "execution_count": 21,
   "id": "a2fb50a3",
   "metadata": {},
   "outputs": [
    {
     "data": {
      "text/plain": [
       "count    8.780638e+06\n",
       "mean     4.947982e+01\n",
       "std      1.848033e+01\n",
       "min      1.800000e+01\n",
       "25%      3.400000e+01\n",
       "50%      4.900000e+01\n",
       "75%      6.500000e+01\n",
       "max      8.100000e+01\n",
       "Name: age, dtype: float64"
      ]
     },
     "execution_count": 21,
     "metadata": {},
     "output_type": "execute_result"
    }
   ],
   "source": [
    "# Let's start by looking at each individual column separately and find out more information about them\n",
    "# We'll start with the age column\n",
    "\n",
    "df['age'].describe()"
   ]
  },
  {
   "cell_type": "markdown",
   "id": "7c0610d6",
   "metadata": {},
   "source": [
    "#### Average age is 49\n",
    "#### The youngest customer is 18 years old (probably to not violate any laws within any states that involve minors ordering services from delivery apps)\n",
    "#### The oldest customer is 81\n",
    "#### Let's classify ages within these groups"
   ]
  },
  {
   "cell_type": "code",
   "execution_count": 22,
   "id": "63c78463",
   "metadata": {},
   "outputs": [],
   "source": [
    "df.loc[(df['age'] >= 18) & (df['age'] < 35), 'age_category'] = 'Young adult'\n",
    "df.loc[(df['age'] >= 35) & (df['age'] < 45), 'age_category'] = 'Early middle age'\n",
    "df.loc[(df['age'] >= 45) & (df['age'] < 65), 'age_category'] = 'Late middle age'\n",
    "df.loc[(df['age'] >= 65), 'age_category'] = 'Late adulthood'"
   ]
  },
  {
   "cell_type": "code",
   "execution_count": 23,
   "id": "9b1a14f1",
   "metadata": {},
   "outputs": [
    {
     "data": {
      "text/plain": [
       "Late middle age     2753006\n",
       "Young adult         2332286\n",
       "Late adulthood      2322285\n",
       "Early middle age    1373061\n",
       "Name: age_category, dtype: int64"
      ]
     },
     "execution_count": 23,
     "metadata": {},
     "output_type": "execute_result"
    }
   ],
   "source": [
    "df['age_category'].value_counts()"
   ]
  },
  {
   "cell_type": "code",
   "execution_count": 24,
   "id": "72767dbb",
   "metadata": {},
   "outputs": [
    {
     "data": {
      "text/plain": [
       "count    8.780638e+06\n",
       "mean     9.968392e+04\n",
       "std      4.312462e+04\n",
       "min      2.590300e+04\n",
       "25%      6.733700e+04\n",
       "50%      9.676600e+04\n",
       "75%      1.281100e+05\n",
       "max      5.939010e+05\n",
       "Name: income, dtype: float64"
      ]
     },
     "execution_count": 24,
     "metadata": {},
     "output_type": "execute_result"
    }
   ],
   "source": [
    "# Now let's look at the income column\n",
    "\n",
    "df['income'].describe()"
   ]
  },
  {
   "cell_type": "markdown",
   "id": "51696dda",
   "metadata": {},
   "source": [
    "####  The average income is 99,459\n",
    "#### The lowest earning customer's income is 25,903\n",
    "#### The highest earning customer's income is 593,901\n",
    "#### Classification of income group will be based on the article posted by usnews.com"
   ]
  },
  {
   "cell_type": "code",
   "execution_count": 25,
   "id": "b70f6cca",
   "metadata": {},
   "outputs": [],
   "source": [
    "df.loc[(df['income'] <= 52200), 'income_class'] = 'Low income'\n",
    "df.loc[(df['income'] > 52200) & (df['income'] <=156600), 'income_class'] = 'Middle income'\n",
    "df.loc[(df['income'] > 156600), 'income_class'] = 'High income'"
   ]
  },
  {
   "cell_type": "code",
   "execution_count": 26,
   "id": "ca10694f",
   "metadata": {},
   "outputs": [
    {
     "data": {
      "text/plain": [
       "Middle income    6965824\n",
       "Low income       1043843\n",
       "High income       770971\n",
       "Name: income_class, dtype: int64"
      ]
     },
     "execution_count": 26,
     "metadata": {},
     "output_type": "execute_result"
    }
   ],
   "source": [
    "df['income_class'].value_counts()"
   ]
  },
  {
   "cell_type": "code",
   "execution_count": 27,
   "id": "ff1ab763",
   "metadata": {},
   "outputs": [
    {
     "data": {
      "text/plain": [
       "count    8.780638e+06\n",
       "mean     1.501491e+00\n",
       "std      1.118456e+00\n",
       "min      0.000000e+00\n",
       "25%      1.000000e+00\n",
       "50%      2.000000e+00\n",
       "75%      3.000000e+00\n",
       "max      3.000000e+00\n",
       "Name: #_of_dependants, dtype: float64"
      ]
     },
     "execution_count": 27,
     "metadata": {},
     "output_type": "execute_result"
    }
   ],
   "source": [
    "# Now let's look at the number of dependents column\n",
    "\n",
    "df['#_of_dependants'].describe()"
   ]
  },
  {
   "cell_type": "markdown",
   "id": "c0f5d295",
   "metadata": {},
   "source": [
    "#### The average number of dependents is 1.5\n",
    "#### The customer with the least number of dependents is 0\n",
    "#### The customer with the most amount of dependents is 3\n",
    "#### I'll leave the profiling alone since it seems redundant to add labels to dependents of 0-3"
   ]
  },
  {
   "cell_type": "code",
   "execution_count": 28,
   "id": "c8c0455a",
   "metadata": {},
   "outputs": [],
   "source": [
    "# Now let's pair the number of dependents with a crossmap of customer's marital statuses\n",
    "\n",
    "marital_crosstab = pd.crosstab(df['marital_status'],df['#_of_dependants'],dropna = False)"
   ]
  },
  {
   "cell_type": "code",
   "execution_count": 29,
   "id": "45f80289",
   "metadata": {},
   "outputs": [
    {
     "data": {
      "text/html": [
       "<div>\n",
       "<style scoped>\n",
       "    .dataframe tbody tr th:only-of-type {\n",
       "        vertical-align: middle;\n",
       "    }\n",
       "\n",
       "    .dataframe tbody tr th {\n",
       "        vertical-align: top;\n",
       "    }\n",
       "\n",
       "    .dataframe thead th {\n",
       "        text-align: right;\n",
       "    }\n",
       "</style>\n",
       "<table border=\"1\" class=\"dataframe\">\n",
       "  <thead>\n",
       "    <tr style=\"text-align: right;\">\n",
       "      <th>#_of_dependants</th>\n",
       "      <th>0</th>\n",
       "      <th>1</th>\n",
       "      <th>2</th>\n",
       "      <th>3</th>\n",
       "    </tr>\n",
       "    <tr>\n",
       "      <th>marital_status</th>\n",
       "      <th></th>\n",
       "      <th></th>\n",
       "      <th></th>\n",
       "      <th></th>\n",
       "    </tr>\n",
       "  </thead>\n",
       "  <tbody>\n",
       "    <tr>\n",
       "      <th>divorced/widowed</th>\n",
       "      <td>753186</td>\n",
       "      <td>0</td>\n",
       "      <td>0</td>\n",
       "      <td>0</td>\n",
       "    </tr>\n",
       "    <tr>\n",
       "      <th>living with parents and siblings</th>\n",
       "      <td>0</td>\n",
       "      <td>146205</td>\n",
       "      <td>137782</td>\n",
       "      <td>137766</td>\n",
       "    </tr>\n",
       "    <tr>\n",
       "      <th>married</th>\n",
       "      <td>0</td>\n",
       "      <td>2043446</td>\n",
       "      <td>2058735</td>\n",
       "      <td>2062690</td>\n",
       "    </tr>\n",
       "    <tr>\n",
       "      <th>single</th>\n",
       "      <td>1440828</td>\n",
       "      <td>0</td>\n",
       "      <td>0</td>\n",
       "      <td>0</td>\n",
       "    </tr>\n",
       "  </tbody>\n",
       "</table>\n",
       "</div>"
      ],
      "text/plain": [
       "#_of_dependants                         0        1        2        3\n",
       "marital_status                                                      \n",
       "divorced/widowed                   753186        0        0        0\n",
       "living with parents and siblings        0   146205   137782   137766\n",
       "married                                 0  2043446  2058735  2062690\n",
       "single                            1440828        0        0        0"
      ]
     },
     "execution_count": 29,
     "metadata": {},
     "output_type": "execute_result"
    }
   ],
   "source": [
    "marital_crosstab"
   ]
  },
  {
   "cell_type": "markdown",
   "id": "0101b93b",
   "metadata": {},
   "source": [
    "#### Makes sense that divorced, widowed, and single customers have no dependents, but it's odd because even 1 or 2 dependents wouldn't be unusual since there are 18 year olds that may still be dependent on their parents or guardians on the app, but perhaps instacart doesn't take those families into account as number of dependents"
   ]
  },
  {
   "cell_type": "code",
   "execution_count": 30,
   "id": "42e26f0d",
   "metadata": {},
   "outputs": [],
   "source": [
    "# Create a profiling variable for orders for the day of the week\n",
    "\n",
    "day_of_week = df['orders_day_of_week'].value_counts(dropna = False)"
   ]
  },
  {
   "cell_type": "code",
   "execution_count": 31,
   "id": "261c721e",
   "metadata": {},
   "outputs": [
    {
     "data": {
      "text/plain": [
       "0    1676368\n",
       "1    1536369\n",
       "6    1216283\n",
       "5    1143342\n",
       "2    1140360\n",
       "3    1042171\n",
       "4    1025745\n",
       "Name: orders_day_of_week, dtype: int64"
      ]
     },
     "execution_count": 31,
     "metadata": {},
     "output_type": "execute_result"
    }
   ],
   "source": [
    "day_of_week"
   ]
  },
  {
   "cell_type": "code",
   "execution_count": 32,
   "id": "f8b88a9b",
   "metadata": {},
   "outputs": [],
   "source": [
    "df.loc[(df['orders_day_of_week'] <2), 'day_category'] = 'Weekend'\n",
    "df.loc[(df['orders_day_of_week'] >=2), 'day_category'] = 'Weekday'"
   ]
  },
  {
   "cell_type": "code",
   "execution_count": 33,
   "id": "88b00a05",
   "metadata": {},
   "outputs": [
    {
     "data": {
      "text/plain": [
       "Weekday    5567901\n",
       "Weekend    3212737\n",
       "Name: day_category, dtype: int64"
      ]
     },
     "execution_count": 33,
     "metadata": {},
     "output_type": "execute_result"
    }
   ],
   "source": [
    "df['day_category'].value_counts(dropna = False)"
   ]
  },
  {
   "cell_type": "code",
   "execution_count": 34,
   "id": "5fc56cd4",
   "metadata": {},
   "outputs": [
    {
     "data": {
      "text/html": [
       "<div>\n",
       "<style scoped>\n",
       "    .dataframe tbody tr th:only-of-type {\n",
       "        vertical-align: middle;\n",
       "    }\n",
       "\n",
       "    .dataframe tbody tr th {\n",
       "        vertical-align: top;\n",
       "    }\n",
       "\n",
       "    .dataframe thead th {\n",
       "        text-align: right;\n",
       "    }\n",
       "</style>\n",
       "<table border=\"1\" class=\"dataframe\">\n",
       "  <thead>\n",
       "    <tr style=\"text-align: right;\">\n",
       "      <th>age_category</th>\n",
       "      <th>Early middle age</th>\n",
       "      <th>Late adulthood</th>\n",
       "      <th>Late middle age</th>\n",
       "      <th>Young adult</th>\n",
       "    </tr>\n",
       "    <tr>\n",
       "      <th>day_category</th>\n",
       "      <th></th>\n",
       "      <th></th>\n",
       "      <th></th>\n",
       "      <th></th>\n",
       "    </tr>\n",
       "  </thead>\n",
       "  <tbody>\n",
       "    <tr>\n",
       "      <th>Weekday</th>\n",
       "      <td>867883</td>\n",
       "      <td>1475701</td>\n",
       "      <td>1750874</td>\n",
       "      <td>1473443</td>\n",
       "    </tr>\n",
       "    <tr>\n",
       "      <th>Weekend</th>\n",
       "      <td>505178</td>\n",
       "      <td>846584</td>\n",
       "      <td>1002132</td>\n",
       "      <td>858843</td>\n",
       "    </tr>\n",
       "  </tbody>\n",
       "</table>\n",
       "</div>"
      ],
      "text/plain": [
       "age_category  Early middle age  Late adulthood  Late middle age  Young adult\n",
       "day_category                                                                \n",
       "Weekday                 867883         1475701          1750874      1473443\n",
       "Weekend                 505178          846584          1002132       858843"
      ]
     },
     "execution_count": 34,
     "metadata": {},
     "output_type": "execute_result"
    }
   ],
   "source": [
    "# Create a crosstab to use for a later visualization between age group and day group\n",
    "\n",
    "day_age = pd.crosstab(df['day_category'],df['age_category'],dropna=False)\n",
    "day_age"
   ]
  },
  {
   "cell_type": "code",
   "execution_count": 35,
   "id": "0718d3ba",
   "metadata": {},
   "outputs": [
    {
     "data": {
      "text/html": [
       "<div>\n",
       "<style scoped>\n",
       "    .dataframe tbody tr th:only-of-type {\n",
       "        vertical-align: middle;\n",
       "    }\n",
       "\n",
       "    .dataframe tbody tr th {\n",
       "        vertical-align: top;\n",
       "    }\n",
       "\n",
       "    .dataframe thead th {\n",
       "        text-align: right;\n",
       "    }\n",
       "</style>\n",
       "<table border=\"1\" class=\"dataframe\">\n",
       "  <thead>\n",
       "    <tr style=\"text-align: right;\">\n",
       "      <th></th>\n",
       "      <th>department_id</th>\n",
       "      <th>department</th>\n",
       "    </tr>\n",
       "  </thead>\n",
       "  <tbody>\n",
       "    <tr>\n",
       "      <th>0</th>\n",
       "      <td>1</td>\n",
       "      <td>frozen</td>\n",
       "    </tr>\n",
       "    <tr>\n",
       "      <th>1</th>\n",
       "      <td>2</td>\n",
       "      <td>other</td>\n",
       "    </tr>\n",
       "    <tr>\n",
       "      <th>2</th>\n",
       "      <td>3</td>\n",
       "      <td>bakery</td>\n",
       "    </tr>\n",
       "    <tr>\n",
       "      <th>3</th>\n",
       "      <td>4</td>\n",
       "      <td>produce</td>\n",
       "    </tr>\n",
       "    <tr>\n",
       "      <th>4</th>\n",
       "      <td>5</td>\n",
       "      <td>alcohol</td>\n",
       "    </tr>\n",
       "    <tr>\n",
       "      <th>5</th>\n",
       "      <td>6</td>\n",
       "      <td>international</td>\n",
       "    </tr>\n",
       "    <tr>\n",
       "      <th>6</th>\n",
       "      <td>7</td>\n",
       "      <td>beverages</td>\n",
       "    </tr>\n",
       "    <tr>\n",
       "      <th>7</th>\n",
       "      <td>8</td>\n",
       "      <td>pets</td>\n",
       "    </tr>\n",
       "    <tr>\n",
       "      <th>8</th>\n",
       "      <td>9</td>\n",
       "      <td>dry goods pasta</td>\n",
       "    </tr>\n",
       "    <tr>\n",
       "      <th>9</th>\n",
       "      <td>10</td>\n",
       "      <td>bulk</td>\n",
       "    </tr>\n",
       "    <tr>\n",
       "      <th>10</th>\n",
       "      <td>11</td>\n",
       "      <td>personal care</td>\n",
       "    </tr>\n",
       "    <tr>\n",
       "      <th>11</th>\n",
       "      <td>12</td>\n",
       "      <td>meat seafood</td>\n",
       "    </tr>\n",
       "    <tr>\n",
       "      <th>12</th>\n",
       "      <td>13</td>\n",
       "      <td>pantry</td>\n",
       "    </tr>\n",
       "    <tr>\n",
       "      <th>13</th>\n",
       "      <td>14</td>\n",
       "      <td>breakfast</td>\n",
       "    </tr>\n",
       "    <tr>\n",
       "      <th>14</th>\n",
       "      <td>15</td>\n",
       "      <td>canned goods</td>\n",
       "    </tr>\n",
       "    <tr>\n",
       "      <th>15</th>\n",
       "      <td>16</td>\n",
       "      <td>dairy eggs</td>\n",
       "    </tr>\n",
       "    <tr>\n",
       "      <th>16</th>\n",
       "      <td>17</td>\n",
       "      <td>household</td>\n",
       "    </tr>\n",
       "    <tr>\n",
       "      <th>17</th>\n",
       "      <td>18</td>\n",
       "      <td>babies</td>\n",
       "    </tr>\n",
       "    <tr>\n",
       "      <th>18</th>\n",
       "      <td>19</td>\n",
       "      <td>snacks</td>\n",
       "    </tr>\n",
       "    <tr>\n",
       "      <th>19</th>\n",
       "      <td>20</td>\n",
       "      <td>deli</td>\n",
       "    </tr>\n",
       "    <tr>\n",
       "      <th>20</th>\n",
       "      <td>21</td>\n",
       "      <td>missing</td>\n",
       "    </tr>\n",
       "  </tbody>\n",
       "</table>\n",
       "</div>"
      ],
      "text/plain": [
       "    department_id       department\n",
       "0               1           frozen\n",
       "1               2            other\n",
       "2               3           bakery\n",
       "3               4          produce\n",
       "4               5          alcohol\n",
       "5               6    international\n",
       "6               7        beverages\n",
       "7               8             pets\n",
       "8               9  dry goods pasta\n",
       "9              10             bulk\n",
       "10             11    personal care\n",
       "11             12     meat seafood\n",
       "12             13           pantry\n",
       "13             14        breakfast\n",
       "14             15     canned goods\n",
       "15             16       dairy eggs\n",
       "16             17        household\n",
       "17             18           babies\n",
       "18             19           snacks\n",
       "19             20             deli\n",
       "20             21          missing"
      ]
     },
     "execution_count": 35,
     "metadata": {},
     "output_type": "execute_result"
    }
   ],
   "source": [
    "# Lastly let's look at the departments\n",
    "\n",
    "df_dep.rename(columns = {'Unnamed: 0': 'department_id'}, inplace = True)\n",
    "df_dep"
   ]
  },
  {
   "cell_type": "code",
   "execution_count": 36,
   "id": "db2e2e8e",
   "metadata": {},
   "outputs": [],
   "source": [
    "# Create a department dictionary, then pair it with the original dataframe\n",
    "\n",
    "df_dep_map = dict(zip(df_dep['department_id'], df_dep['department']))"
   ]
  },
  {
   "cell_type": "code",
   "execution_count": 37,
   "id": "0f6b8e02",
   "metadata": {},
   "outputs": [
    {
     "data": {
      "text/plain": [
       "{1: 'frozen',\n",
       " 2: 'other',\n",
       " 3: 'bakery',\n",
       " 4: 'produce',\n",
       " 5: 'alcohol',\n",
       " 6: 'international',\n",
       " 7: 'beverages',\n",
       " 8: 'pets',\n",
       " 9: 'dry goods pasta',\n",
       " 10: 'bulk',\n",
       " 11: 'personal care',\n",
       " 12: 'meat seafood',\n",
       " 13: 'pantry',\n",
       " 14: 'breakfast',\n",
       " 15: 'canned goods',\n",
       " 16: 'dairy eggs',\n",
       " 17: 'household',\n",
       " 18: 'babies',\n",
       " 19: 'snacks',\n",
       " 20: 'deli',\n",
       " 21: 'missing'}"
      ]
     },
     "execution_count": 37,
     "metadata": {},
     "output_type": "execute_result"
    }
   ],
   "source": [
    "df_dep_map"
   ]
  },
  {
   "cell_type": "code",
   "execution_count": 38,
   "id": "3eb45d6b",
   "metadata": {},
   "outputs": [],
   "source": [
    "# Now let's map the customers to the departments and check which departments are the most popular\n",
    "\n",
    "df['department'] = df['department_id'].map(df_dep_map)"
   ]
  },
  {
   "cell_type": "code",
   "execution_count": 39,
   "id": "63ae7ef6",
   "metadata": {},
   "outputs": [
    {
     "data": {
      "text/plain": [
       "produce            2575614\n",
       "dairy eggs         1466862\n",
       "snacks              785216\n",
       "beverages           728530\n",
       "frozen              600856\n",
       "pantry              506148\n",
       "bakery              318473\n",
       "canned goods        287316\n",
       "deli                284592\n",
       "dry goods pasta     233752\n",
       "household           198041\n",
       "meat seafood        191911\n",
       "breakfast           189797\n",
       "personal care       119775\n",
       "babies              116040\n",
       "international        72460\n",
       "alcohol              41370\n",
       "pets                 26446\n",
       "missing              18497\n",
       "other                 9592\n",
       "bulk                  9350\n",
       "Name: department, dtype: int64"
      ]
     },
     "execution_count": 39,
     "metadata": {},
     "output_type": "execute_result"
    }
   ],
   "source": [
    "df['department'].value_counts(dropna = False)"
   ]
  },
  {
   "cell_type": "markdown",
   "id": "1f435dab",
   "metadata": {},
   "source": [
    "#### Produce is the most popular department, with dairy/eggs being second-most popular. Bulk items are the least popular, which implies that people don't order large amounts of stuff from grocery stores through instacart"
   ]
  },
  {
   "cell_type": "code",
   "execution_count": 40,
   "id": "0ee74ee1",
   "metadata": {},
   "outputs": [],
   "source": [
    "# Separate customers who buy alcohol vs. those who don't\n",
    "\n",
    "df.loc[df['department'] != 'alcohol', 'alcohol_drinker'] = 'No'\n",
    "df.loc[df['department'] == 'alcohol', 'alcohol_drinker'] = 'Yes'"
   ]
  },
  {
   "cell_type": "code",
   "execution_count": 41,
   "id": "667a7d19",
   "metadata": {},
   "outputs": [
    {
     "data": {
      "text/plain": [
       "No     8739268\n",
       "Yes      41370\n",
       "Name: alcohol_drinker, dtype: int64"
      ]
     },
     "execution_count": 41,
     "metadata": {},
     "output_type": "execute_result"
    }
   ],
   "source": [
    "alcohol_count = df['alcohol_drinker'].value_counts(dropna = False)\n",
    "alcohol_count"
   ]
  },
  {
   "cell_type": "code",
   "execution_count": 195,
   "id": "330338ed",
   "metadata": {},
   "outputs": [
    {
     "data": {
      "text/plain": [
       "Text(0.5, 1.0, \"Instacart Customer's Drinking Status\")"
      ]
     },
     "execution_count": 195,
     "metadata": {},
     "output_type": "execute_result"
    },
    {
     "data": {
      "image/png": "[encoded data removed]",
      "text/plain": [
       "<Figure size 720x432 with 1 Axes>"
      ]
     },
     "metadata": {},
     "output_type": "display_data"
    }
   ],
   "source": [
    "alcohol_pie = alcohol_count.plot.pie(labels=['Non-drinker','Drinker'],autopct=('%1.f%%'),figsize=(10,6),colors=['#8D99AE','#d90429'], label='',textprops={'fontsize':14}, explode = [0,0.3])\n",
    "alcohol_pie.legend(title = 'Drinking Status')\n",
    "plt.title(\"Instacart Customer's Drinking Status\",fontsize=20)"
   ]
  },
  {
   "cell_type": "code",
   "execution_count": 43,
   "id": "364f1e7e",
   "metadata": {},
   "outputs": [],
   "source": [
    "# Customers who buy pet supplies\n",
    "\n",
    "df.loc[df['department'] != 'pets', 'pet_owner'] = 'No'\n",
    "df.loc[df['department'] == 'pets', 'pet_owner'] = 'Yes'"
   ]
  },
  {
   "cell_type": "code",
   "execution_count": 44,
   "id": "cbf62da9",
   "metadata": {},
   "outputs": [],
   "source": [
    "pet = df['pet_owner'].value_counts(dropna = False)"
   ]
  },
  {
   "cell_type": "code",
   "execution_count": 45,
   "id": "d3c5a880",
   "metadata": {},
   "outputs": [
    {
     "data": {
      "text/plain": [
       "No     8754192\n",
       "Yes      26446\n",
       "Name: pet_owner, dtype: int64"
      ]
     },
     "execution_count": 45,
     "metadata": {},
     "output_type": "execute_result"
    }
   ],
   "source": [
    "pet"
   ]
  },
  {
   "cell_type": "code",
   "execution_count": 199,
   "id": "34260b16",
   "metadata": {},
   "outputs": [
    {
     "data": {
      "text/plain": [
       "Text(0.5, 1.0, 'Instacart Customers with vs. without Pets')"
      ]
     },
     "execution_count": 199,
     "metadata": {},
     "output_type": "execute_result"
    },
    {
     "data": {
      "image/png": "[encoded data removed]",
      "text/plain": [
       "<Figure size 720x432 with 1 Axes>"
      ]
     },
     "metadata": {},
     "output_type": "display_data"
    }
   ],
   "source": [
    "pet_pie = pet.plot.pie(labels=['Does not own a pet','Owns a pet'],autopct=('%1.f%%'),figsize=(10,6),colors=['#CCBCBC','#432818'], label='',textprops={'fontsize':14}, explode = [0,0.3])\n",
    "pet_pie.legend(title = 'Pet Status')\n",
    "plt.title(\"Instacart Customers with vs. without Pets\",fontsize=20)"
   ]
  },
  {
   "cell_type": "code",
   "execution_count": 47,
   "id": "eb6b89b8",
   "metadata": {},
   "outputs": [],
   "source": [
    "# Customers who buy baby products (implied to have a child)\n",
    "\n",
    "df.loc[df['department'] != 'babies', 'has_a_child'] = 'No'\n",
    "df.loc[df['department'] == 'babies', 'has_a_child'] = 'Yes'"
   ]
  },
  {
   "cell_type": "code",
   "execution_count": 48,
   "id": "5bb59549",
   "metadata": {},
   "outputs": [
    {
     "data": {
      "text/plain": [
       "No     8664598\n",
       "Yes     116040\n",
       "Name: has_a_child, dtype: int64"
      ]
     },
     "execution_count": 48,
     "metadata": {},
     "output_type": "execute_result"
    }
   ],
   "source": [
    "baby = df['has_a_child'].value_counts(dropna = False)\n",
    "baby"
   ]
  },
  {
   "cell_type": "code",
   "execution_count": 204,
   "id": "de5b41d6",
   "metadata": {},
   "outputs": [
    {
     "data": {
      "text/plain": [
       "Text(0.5, 1.0, 'Instacart Customers with vs. without Babies')"
      ]
     },
     "execution_count": 204,
     "metadata": {},
     "output_type": "execute_result"
    },
    {
     "data": {
      "image/png": "[encoded data removed]",
      "text/plain": [
       "<Figure size 720x432 with 1 Axes>"
      ]
     },
     "metadata": {},
     "output_type": "display_data"
    }
   ],
   "source": [
    "baby_pie = baby.plot.pie(labels=['No Children','Has a Child'],autopct=('%1.f%%'),figsize=(10,6),colors=['#A1CF6B','#64B6AC'], label='',textprops={'fontsize':14}, explode = [0,0.3])\n",
    "baby_pie.legend(title = 'Baby Status')\n",
    "plt.title(\"Instacart Customers with vs. without Babies\",fontsize=20)"
   ]
  },
  {
   "cell_type": "markdown",
   "id": "8678cc5f",
   "metadata": {},
   "source": [
    "#### Let's examine the different income classes across each region"
   ]
  },
  {
   "cell_type": "code",
   "execution_count": 50,
   "id": "e338d305",
   "metadata": {},
   "outputs": [],
   "source": [
    "# Create a crosstab between region and income class\n",
    "\n",
    "region_income = pd.crosstab (df['region'],df['income_class'],dropna=False)"
   ]
  },
  {
   "cell_type": "code",
   "execution_count": 51,
   "id": "6395efaf",
   "metadata": {},
   "outputs": [
    {
     "data": {
      "text/html": [
       "<div>\n",
       "<style scoped>\n",
       "    .dataframe tbody tr th:only-of-type {\n",
       "        vertical-align: middle;\n",
       "    }\n",
       "\n",
       "    .dataframe tbody tr th {\n",
       "        vertical-align: top;\n",
       "    }\n",
       "\n",
       "    .dataframe thead th {\n",
       "        text-align: right;\n",
       "    }\n",
       "</style>\n",
       "<table border=\"1\" class=\"dataframe\">\n",
       "  <thead>\n",
       "    <tr style=\"text-align: right;\">\n",
       "      <th>income_class</th>\n",
       "      <th>High income</th>\n",
       "      <th>Low income</th>\n",
       "      <th>Middle income</th>\n",
       "    </tr>\n",
       "    <tr>\n",
       "      <th>region</th>\n",
       "      <th></th>\n",
       "      <th></th>\n",
       "      <th></th>\n",
       "    </tr>\n",
       "  </thead>\n",
       "  <tbody>\n",
       "    <tr>\n",
       "      <th>Midwest</th>\n",
       "      <td>180406</td>\n",
       "      <td>244282</td>\n",
       "      <td>1632265</td>\n",
       "    </tr>\n",
       "    <tr>\n",
       "      <th>Northeast</th>\n",
       "      <td>135726</td>\n",
       "      <td>184257</td>\n",
       "      <td>1233773</td>\n",
       "    </tr>\n",
       "    <tr>\n",
       "      <th>South</th>\n",
       "      <td>259350</td>\n",
       "      <td>355616</td>\n",
       "      <td>2308088</td>\n",
       "    </tr>\n",
       "    <tr>\n",
       "      <th>West</th>\n",
       "      <td>195489</td>\n",
       "      <td>259688</td>\n",
       "      <td>1791698</td>\n",
       "    </tr>\n",
       "  </tbody>\n",
       "</table>\n",
       "</div>"
      ],
      "text/plain": [
       "income_class  High income  Low income  Middle income\n",
       "region                                              \n",
       "Midwest            180406      244282        1632265\n",
       "Northeast          135726      184257        1233773\n",
       "South              259350      355616        2308088\n",
       "West               195489      259688        1791698"
      ]
     },
     "execution_count": 51,
     "metadata": {},
     "output_type": "execute_result"
    }
   ],
   "source": [
    "region_income"
   ]
  },
  {
   "cell_type": "code",
   "execution_count": 217,
   "id": "8392fdaf",
   "metadata": {},
   "outputs": [
    {
     "data": {
      "text/plain": [
       "(array([0, 1, 2, 3]),\n",
       " [Text(0, 0, 'Midwest'),\n",
       "  Text(1, 0, 'Northeast'),\n",
       "  Text(2, 0, 'South'),\n",
       "  Text(3, 0, 'West')])"
      ]
     },
     "execution_count": 217,
     "metadata": {},
     "output_type": "execute_result"
    },
    {
     "data": {
      "image/png": "[encoded data removed]",
      "text/plain": [
       "<Figure size 720x432 with 1 Axes>"
      ]
     },
     "metadata": {
      "needs_background": "light"
     },
     "output_type": "display_data"
    }
   ],
   "source": [
    "# Plot the data\n",
    "\n",
    "region_income_bar = region_income.plot(kind = 'bar',figsize=(10,6),color=['#FFF54E','#4292B9','#8Fd79F'])\n",
    "region_income_bar.legend(title = 'Income Status',loc='upper left')\n",
    "plt.title('Income Class Within Each Region', fontsize = 20)\n",
    "plt.ylabel('Frequency (in millions)',fontsize=14)\n",
    "plt.xlabel('Region',fontsize=14)\n",
    "plt.xticks(rotation=0,fontsize=12)"
   ]
  },
  {
   "cell_type": "markdown",
   "id": "1cc384d7",
   "metadata": {},
   "source": [
    "#### It's a bit hard to tell if there's any significant differences or trends between income and region. The south notably has the most customers with middle-level incomes, but that may be because their population is a lot bigger than the other regions"
   ]
  },
  {
   "cell_type": "markdown",
   "id": "942d7e41",
   "metadata": {},
   "source": [
    "#### Let's examine if there's any trends between age groups and whether they shop during the week or the weekends"
   ]
  },
  {
   "cell_type": "code",
   "execution_count": 165,
   "id": "776c9c11",
   "metadata": {},
   "outputs": [
    {
     "data": {
      "text/plain": [
       "(array([0, 1]), [Text(0, 0, 'Weekday'), Text(1, 0, 'Weekend')])"
      ]
     },
     "execution_count": 165,
     "metadata": {},
     "output_type": "execute_result"
    },
    {
     "data": {
      "image/png": "[encoded data removed]",
      "text/plain": [
       "<Figure size 720x432 with 1 Axes>"
      ]
     },
     "metadata": {
      "needs_background": "light"
     },
     "output_type": "display_data"
    }
   ],
   "source": [
    "# Use the previous crosstab created earlier to use for the plot\n",
    "\n",
    "day_age_bar = day_age.plot(kind='bar',figsize=(10,6), color=['#b7b7b7', '#000000', '#666666', '#cccccc'])\n",
    "day_age_bar.legend(title = 'Age Group')\n",
    "plt.title('Age Groups vs. Weekend/Weekday Shopping', fontsize=20)\n",
    "plt.ylabel('Frequency (in millions)',fontsize=14)\n",
    "plt.xlabel('Day of Week',fontsize=14)\n",
    "plt.xticks(rotation=0,fontsize=12)"
   ]
  },
  {
   "cell_type": "markdown",
   "id": "948a0813",
   "metadata": {},
   "source": [
    "### Aggregate the max, mean, and min variables on a customer-profile level for usage frequency and expenditure"
   ]
  },
  {
   "cell_type": "code",
   "execution_count": 54,
   "id": "62352219",
   "metadata": {},
   "outputs": [
    {
     "data": {
      "text/html": [
       "<div>\n",
       "<style scoped>\n",
       "    .dataframe tbody tr th:only-of-type {\n",
       "        vertical-align: middle;\n",
       "    }\n",
       "\n",
       "    .dataframe tbody tr th {\n",
       "        vertical-align: top;\n",
       "    }\n",
       "\n",
       "    .dataframe thead tr th {\n",
       "        text-align: left;\n",
       "    }\n",
       "\n",
       "    .dataframe thead tr:last-of-type th {\n",
       "        text-align: right;\n",
       "    }\n",
       "</style>\n",
       "<table border=\"1\" class=\"dataframe\">\n",
       "  <thead>\n",
       "    <tr>\n",
       "      <th></th>\n",
       "      <th colspan=\"3\" halign=\"left\">prices</th>\n",
       "    </tr>\n",
       "    <tr>\n",
       "      <th></th>\n",
       "      <th>max</th>\n",
       "      <th>min</th>\n",
       "      <th>mean</th>\n",
       "    </tr>\n",
       "    <tr>\n",
       "      <th>department</th>\n",
       "      <th></th>\n",
       "      <th></th>\n",
       "      <th></th>\n",
       "    </tr>\n",
       "  </thead>\n",
       "  <tbody>\n",
       "    <tr>\n",
       "      <th>alcohol</th>\n",
       "      <td>15.0</td>\n",
       "      <td>1.0</td>\n",
       "      <td>8.151189</td>\n",
       "    </tr>\n",
       "    <tr>\n",
       "      <th>babies</th>\n",
       "      <td>15.0</td>\n",
       "      <td>1.0</td>\n",
       "      <td>7.632759</td>\n",
       "    </tr>\n",
       "    <tr>\n",
       "      <th>bakery</th>\n",
       "      <td>15.0</td>\n",
       "      <td>1.0</td>\n",
       "      <td>7.854219</td>\n",
       "    </tr>\n",
       "    <tr>\n",
       "      <th>beverages</th>\n",
       "      <td>15.0</td>\n",
       "      <td>1.0</td>\n",
       "      <td>7.689954</td>\n",
       "    </tr>\n",
       "    <tr>\n",
       "      <th>breakfast</th>\n",
       "      <td>14.9</td>\n",
       "      <td>1.0</td>\n",
       "      <td>8.025784</td>\n",
       "    </tr>\n",
       "    <tr>\n",
       "      <th>bulk</th>\n",
       "      <td>14.1</td>\n",
       "      <td>1.4</td>\n",
       "      <td>8.410503</td>\n",
       "    </tr>\n",
       "    <tr>\n",
       "      <th>canned goods</th>\n",
       "      <td>15.0</td>\n",
       "      <td>1.0</td>\n",
       "      <td>7.554412</td>\n",
       "    </tr>\n",
       "    <tr>\n",
       "      <th>dairy eggs</th>\n",
       "      <td>99999.0</td>\n",
       "      <td>1.0</td>\n",
       "      <td>33.494198</td>\n",
       "    </tr>\n",
       "    <tr>\n",
       "      <th>deli</th>\n",
       "      <td>15.0</td>\n",
       "      <td>1.0</td>\n",
       "      <td>7.783377</td>\n",
       "    </tr>\n",
       "    <tr>\n",
       "      <th>dry goods pasta</th>\n",
       "      <td>15.0</td>\n",
       "      <td>1.0</td>\n",
       "      <td>7.346812</td>\n",
       "    </tr>\n",
       "    <tr>\n",
       "      <th>frozen</th>\n",
       "      <td>15.0</td>\n",
       "      <td>1.0</td>\n",
       "      <td>7.734401</td>\n",
       "    </tr>\n",
       "    <tr>\n",
       "      <th>household</th>\n",
       "      <td>15.0</td>\n",
       "      <td>1.0</td>\n",
       "      <td>7.389337</td>\n",
       "    </tr>\n",
       "    <tr>\n",
       "      <th>international</th>\n",
       "      <td>15.0</td>\n",
       "      <td>1.0</td>\n",
       "      <td>7.686020</td>\n",
       "    </tr>\n",
       "    <tr>\n",
       "      <th>meat seafood</th>\n",
       "      <td>25.0</td>\n",
       "      <td>8.0</td>\n",
       "      <td>16.303920</td>\n",
       "    </tr>\n",
       "    <tr>\n",
       "      <th>missing</th>\n",
       "      <td>15.0</td>\n",
       "      <td>1.0</td>\n",
       "      <td>8.634530</td>\n",
       "    </tr>\n",
       "    <tr>\n",
       "      <th>other</th>\n",
       "      <td>15.0</td>\n",
       "      <td>1.1</td>\n",
       "      <td>6.996122</td>\n",
       "    </tr>\n",
       "    <tr>\n",
       "      <th>pantry</th>\n",
       "      <td>20.0</td>\n",
       "      <td>1.0</td>\n",
       "      <td>7.998677</td>\n",
       "    </tr>\n",
       "    <tr>\n",
       "      <th>personal care</th>\n",
       "      <td>15.0</td>\n",
       "      <td>1.0</td>\n",
       "      <td>7.986280</td>\n",
       "    </tr>\n",
       "    <tr>\n",
       "      <th>pets</th>\n",
       "      <td>15.0</td>\n",
       "      <td>1.0</td>\n",
       "      <td>7.844075</td>\n",
       "    </tr>\n",
       "    <tr>\n",
       "      <th>produce</th>\n",
       "      <td>15.0</td>\n",
       "      <td>1.0</td>\n",
       "      <td>7.980386</td>\n",
       "    </tr>\n",
       "    <tr>\n",
       "      <th>snacks</th>\n",
       "      <td>7.0</td>\n",
       "      <td>1.6</td>\n",
       "      <td>4.276620</td>\n",
       "    </tr>\n",
       "  </tbody>\n",
       "</table>\n",
       "</div>"
      ],
      "text/plain": [
       "                  prices                \n",
       "                     max  min       mean\n",
       "department                              \n",
       "alcohol             15.0  1.0   8.151189\n",
       "babies              15.0  1.0   7.632759\n",
       "bakery              15.0  1.0   7.854219\n",
       "beverages           15.0  1.0   7.689954\n",
       "breakfast           14.9  1.0   8.025784\n",
       "bulk                14.1  1.4   8.410503\n",
       "canned goods        15.0  1.0   7.554412\n",
       "dairy eggs       99999.0  1.0  33.494198\n",
       "deli                15.0  1.0   7.783377\n",
       "dry goods pasta     15.0  1.0   7.346812\n",
       "frozen              15.0  1.0   7.734401\n",
       "household           15.0  1.0   7.389337\n",
       "international       15.0  1.0   7.686020\n",
       "meat seafood        25.0  8.0  16.303920\n",
       "missing             15.0  1.0   8.634530\n",
       "other               15.0  1.1   6.996122\n",
       "pantry              20.0  1.0   7.998677\n",
       "personal care       15.0  1.0   7.986280\n",
       "pets                15.0  1.0   7.844075\n",
       "produce             15.0  1.0   7.980386\n",
       "snacks               7.0  1.6   4.276620"
      ]
     },
     "execution_count": 54,
     "metadata": {},
     "output_type": "execute_result"
    }
   ],
   "source": [
    "df.groupby('department').agg({'prices':['max','min','mean']})"
   ]
  },
  {
   "cell_type": "markdown",
   "id": "302c8af7",
   "metadata": {},
   "source": [
    "#### Clearly there's something wrong with the dairy/eggs row. Let's delete the obvious outliers. It's safe to assume that there won't be anything that costs over 5000 at a grocery store, so let's remove anything above that price"
   ]
  },
  {
   "cell_type": "code",
   "execution_count": 55,
   "id": "676159ba",
   "metadata": {},
   "outputs": [],
   "source": [
    "df.drop(df[df['prices'] > 5000].index, inplace=True)"
   ]
  },
  {
   "cell_type": "code",
   "execution_count": 56,
   "id": "2bc297b5",
   "metadata": {},
   "outputs": [
    {
     "data": {
      "text/html": [
       "<div>\n",
       "<style scoped>\n",
       "    .dataframe tbody tr th:only-of-type {\n",
       "        vertical-align: middle;\n",
       "    }\n",
       "\n",
       "    .dataframe tbody tr th {\n",
       "        vertical-align: top;\n",
       "    }\n",
       "\n",
       "    .dataframe thead tr th {\n",
       "        text-align: left;\n",
       "    }\n",
       "\n",
       "    .dataframe thead tr:last-of-type th {\n",
       "        text-align: right;\n",
       "    }\n",
       "</style>\n",
       "<table border=\"1\" class=\"dataframe\">\n",
       "  <thead>\n",
       "    <tr>\n",
       "      <th></th>\n",
       "      <th colspan=\"3\" halign=\"left\">prices</th>\n",
       "    </tr>\n",
       "    <tr>\n",
       "      <th></th>\n",
       "      <th>max</th>\n",
       "      <th>min</th>\n",
       "      <th>mean</th>\n",
       "    </tr>\n",
       "    <tr>\n",
       "      <th>department</th>\n",
       "      <th></th>\n",
       "      <th></th>\n",
       "      <th></th>\n",
       "    </tr>\n",
       "  </thead>\n",
       "  <tbody>\n",
       "    <tr>\n",
       "      <th>alcohol</th>\n",
       "      <td>15.0</td>\n",
       "      <td>1.0</td>\n",
       "      <td>8.151189</td>\n",
       "    </tr>\n",
       "    <tr>\n",
       "      <th>babies</th>\n",
       "      <td>15.0</td>\n",
       "      <td>1.0</td>\n",
       "      <td>7.632759</td>\n",
       "    </tr>\n",
       "    <tr>\n",
       "      <th>bakery</th>\n",
       "      <td>15.0</td>\n",
       "      <td>1.0</td>\n",
       "      <td>7.854219</td>\n",
       "    </tr>\n",
       "    <tr>\n",
       "      <th>beverages</th>\n",
       "      <td>15.0</td>\n",
       "      <td>1.0</td>\n",
       "      <td>7.689954</td>\n",
       "    </tr>\n",
       "    <tr>\n",
       "      <th>breakfast</th>\n",
       "      <td>14.9</td>\n",
       "      <td>1.0</td>\n",
       "      <td>8.025784</td>\n",
       "    </tr>\n",
       "    <tr>\n",
       "      <th>bulk</th>\n",
       "      <td>14.1</td>\n",
       "      <td>1.4</td>\n",
       "      <td>8.410503</td>\n",
       "    </tr>\n",
       "    <tr>\n",
       "      <th>canned goods</th>\n",
       "      <td>15.0</td>\n",
       "      <td>1.0</td>\n",
       "      <td>7.554412</td>\n",
       "    </tr>\n",
       "    <tr>\n",
       "      <th>dairy eggs</th>\n",
       "      <td>15.0</td>\n",
       "      <td>1.0</td>\n",
       "      <td>8.335460</td>\n",
       "    </tr>\n",
       "    <tr>\n",
       "      <th>deli</th>\n",
       "      <td>15.0</td>\n",
       "      <td>1.0</td>\n",
       "      <td>7.783377</td>\n",
       "    </tr>\n",
       "    <tr>\n",
       "      <th>dry goods pasta</th>\n",
       "      <td>15.0</td>\n",
       "      <td>1.0</td>\n",
       "      <td>7.346812</td>\n",
       "    </tr>\n",
       "    <tr>\n",
       "      <th>frozen</th>\n",
       "      <td>15.0</td>\n",
       "      <td>1.0</td>\n",
       "      <td>7.734401</td>\n",
       "    </tr>\n",
       "    <tr>\n",
       "      <th>household</th>\n",
       "      <td>15.0</td>\n",
       "      <td>1.0</td>\n",
       "      <td>7.389337</td>\n",
       "    </tr>\n",
       "    <tr>\n",
       "      <th>international</th>\n",
       "      <td>15.0</td>\n",
       "      <td>1.0</td>\n",
       "      <td>7.686020</td>\n",
       "    </tr>\n",
       "    <tr>\n",
       "      <th>meat seafood</th>\n",
       "      <td>25.0</td>\n",
       "      <td>8.0</td>\n",
       "      <td>16.303920</td>\n",
       "    </tr>\n",
       "    <tr>\n",
       "      <th>missing</th>\n",
       "      <td>15.0</td>\n",
       "      <td>1.0</td>\n",
       "      <td>8.634530</td>\n",
       "    </tr>\n",
       "    <tr>\n",
       "      <th>other</th>\n",
       "      <td>15.0</td>\n",
       "      <td>1.1</td>\n",
       "      <td>6.996122</td>\n",
       "    </tr>\n",
       "    <tr>\n",
       "      <th>pantry</th>\n",
       "      <td>20.0</td>\n",
       "      <td>1.0</td>\n",
       "      <td>7.998677</td>\n",
       "    </tr>\n",
       "    <tr>\n",
       "      <th>personal care</th>\n",
       "      <td>15.0</td>\n",
       "      <td>1.0</td>\n",
       "      <td>7.986280</td>\n",
       "    </tr>\n",
       "    <tr>\n",
       "      <th>pets</th>\n",
       "      <td>15.0</td>\n",
       "      <td>1.0</td>\n",
       "      <td>7.844075</td>\n",
       "    </tr>\n",
       "    <tr>\n",
       "      <th>produce</th>\n",
       "      <td>15.0</td>\n",
       "      <td>1.0</td>\n",
       "      <td>7.980386</td>\n",
       "    </tr>\n",
       "    <tr>\n",
       "      <th>snacks</th>\n",
       "      <td>7.0</td>\n",
       "      <td>1.6</td>\n",
       "      <td>4.276620</td>\n",
       "    </tr>\n",
       "  </tbody>\n",
       "</table>\n",
       "</div>"
      ],
      "text/plain": [
       "                prices                \n",
       "                   max  min       mean\n",
       "department                            \n",
       "alcohol           15.0  1.0   8.151189\n",
       "babies            15.0  1.0   7.632759\n",
       "bakery            15.0  1.0   7.854219\n",
       "beverages         15.0  1.0   7.689954\n",
       "breakfast         14.9  1.0   8.025784\n",
       "bulk              14.1  1.4   8.410503\n",
       "canned goods      15.0  1.0   7.554412\n",
       "dairy eggs        15.0  1.0   8.335460\n",
       "deli              15.0  1.0   7.783377\n",
       "dry goods pasta   15.0  1.0   7.346812\n",
       "frozen            15.0  1.0   7.734401\n",
       "household         15.0  1.0   7.389337\n",
       "international     15.0  1.0   7.686020\n",
       "meat seafood      25.0  8.0  16.303920\n",
       "missing           15.0  1.0   8.634530\n",
       "other             15.0  1.1   6.996122\n",
       "pantry            20.0  1.0   7.998677\n",
       "personal care     15.0  1.0   7.986280\n",
       "pets              15.0  1.0   7.844075\n",
       "produce           15.0  1.0   7.980386\n",
       "snacks             7.0  1.6   4.276620"
      ]
     },
     "execution_count": 56,
     "metadata": {},
     "output_type": "execute_result"
    }
   ],
   "source": [
    "df.groupby('department').agg({'prices':['max','min','mean']})"
   ]
  },
  {
   "cell_type": "code",
   "execution_count": 61,
   "id": "1023962d",
   "metadata": {},
   "outputs": [
    {
     "data": {
      "text/html": [
       "<div>\n",
       "<style scoped>\n",
       "    .dataframe tbody tr th:only-of-type {\n",
       "        vertical-align: middle;\n",
       "    }\n",
       "\n",
       "    .dataframe tbody tr th {\n",
       "        vertical-align: top;\n",
       "    }\n",
       "\n",
       "    .dataframe thead tr th {\n",
       "        text-align: left;\n",
       "    }\n",
       "\n",
       "    .dataframe thead tr:last-of-type th {\n",
       "        text-align: right;\n",
       "    }\n",
       "</style>\n",
       "<table border=\"1\" class=\"dataframe\">\n",
       "  <thead>\n",
       "    <tr>\n",
       "      <th></th>\n",
       "      <th colspan=\"3\" halign=\"left\">add_to_cart_order</th>\n",
       "    </tr>\n",
       "    <tr>\n",
       "      <th></th>\n",
       "      <th>max</th>\n",
       "      <th>min</th>\n",
       "      <th>mean</th>\n",
       "    </tr>\n",
       "    <tr>\n",
       "      <th>department</th>\n",
       "      <th></th>\n",
       "      <th></th>\n",
       "      <th></th>\n",
       "    </tr>\n",
       "  </thead>\n",
       "  <tbody>\n",
       "    <tr>\n",
       "      <th>alcohol</th>\n",
       "      <td>71</td>\n",
       "      <td>1</td>\n",
       "      <td>5.453058</td>\n",
       "    </tr>\n",
       "    <tr>\n",
       "      <th>babies</th>\n",
       "      <td>89</td>\n",
       "      <td>1</td>\n",
       "      <td>10.590141</td>\n",
       "    </tr>\n",
       "    <tr>\n",
       "      <th>bakery</th>\n",
       "      <td>114</td>\n",
       "      <td>1</td>\n",
       "      <td>8.094306</td>\n",
       "    </tr>\n",
       "    <tr>\n",
       "      <th>beverages</th>\n",
       "      <td>135</td>\n",
       "      <td>1</td>\n",
       "      <td>7.007117</td>\n",
       "    </tr>\n",
       "    <tr>\n",
       "      <th>breakfast</th>\n",
       "      <td>117</td>\n",
       "      <td>1</td>\n",
       "      <td>9.155766</td>\n",
       "    </tr>\n",
       "    <tr>\n",
       "      <th>bulk</th>\n",
       "      <td>71</td>\n",
       "      <td>1</td>\n",
       "      <td>8.443316</td>\n",
       "    </tr>\n",
       "    <tr>\n",
       "      <th>canned goods</th>\n",
       "      <td>94</td>\n",
       "      <td>1</td>\n",
       "      <td>9.977234</td>\n",
       "    </tr>\n",
       "    <tr>\n",
       "      <th>dairy eggs</th>\n",
       "      <td>137</td>\n",
       "      <td>1</td>\n",
       "      <td>7.514342</td>\n",
       "    </tr>\n",
       "    <tr>\n",
       "      <th>deli</th>\n",
       "      <td>142</td>\n",
       "      <td>1</td>\n",
       "      <td>8.703671</td>\n",
       "    </tr>\n",
       "    <tr>\n",
       "      <th>dry goods pasta</th>\n",
       "      <td>104</td>\n",
       "      <td>1</td>\n",
       "      <td>10.212221</td>\n",
       "    </tr>\n",
       "    <tr>\n",
       "      <th>frozen</th>\n",
       "      <td>123</td>\n",
       "      <td>1</td>\n",
       "      <td>9.011760</td>\n",
       "    </tr>\n",
       "    <tr>\n",
       "      <th>household</th>\n",
       "      <td>115</td>\n",
       "      <td>1</td>\n",
       "      <td>8.529219</td>\n",
       "    </tr>\n",
       "    <tr>\n",
       "      <th>international</th>\n",
       "      <td>106</td>\n",
       "      <td>1</td>\n",
       "      <td>9.947240</td>\n",
       "    </tr>\n",
       "    <tr>\n",
       "      <th>meat seafood</th>\n",
       "      <td>90</td>\n",
       "      <td>1</td>\n",
       "      <td>8.557118</td>\n",
       "    </tr>\n",
       "    <tr>\n",
       "      <th>missing</th>\n",
       "      <td>71</td>\n",
       "      <td>1</td>\n",
       "      <td>9.374493</td>\n",
       "    </tr>\n",
       "    <tr>\n",
       "      <th>other</th>\n",
       "      <td>72</td>\n",
       "      <td>1</td>\n",
       "      <td>8.215075</td>\n",
       "    </tr>\n",
       "    <tr>\n",
       "      <th>pantry</th>\n",
       "      <td>107</td>\n",
       "      <td>1</td>\n",
       "      <td>9.617616</td>\n",
       "    </tr>\n",
       "    <tr>\n",
       "      <th>personal care</th>\n",
       "      <td>125</td>\n",
       "      <td>1</td>\n",
       "      <td>8.739896</td>\n",
       "    </tr>\n",
       "    <tr>\n",
       "      <th>pets</th>\n",
       "      <td>121</td>\n",
       "      <td>1</td>\n",
       "      <td>7.731680</td>\n",
       "    </tr>\n",
       "    <tr>\n",
       "      <th>produce</th>\n",
       "      <td>138</td>\n",
       "      <td>1</td>\n",
       "      <td>8.035760</td>\n",
       "    </tr>\n",
       "    <tr>\n",
       "      <th>snacks</th>\n",
       "      <td>132</td>\n",
       "      <td>1</td>\n",
       "      <td>9.193943</td>\n",
       "    </tr>\n",
       "  </tbody>\n",
       "</table>\n",
       "</div>"
      ],
      "text/plain": [
       "                add_to_cart_order               \n",
       "                              max min       mean\n",
       "department                                      \n",
       "alcohol                        71   1   5.453058\n",
       "babies                         89   1  10.590141\n",
       "bakery                        114   1   8.094306\n",
       "beverages                     135   1   7.007117\n",
       "breakfast                     117   1   9.155766\n",
       "bulk                           71   1   8.443316\n",
       "canned goods                   94   1   9.977234\n",
       "dairy eggs                    137   1   7.514342\n",
       "deli                          142   1   8.703671\n",
       "dry goods pasta               104   1  10.212221\n",
       "frozen                        123   1   9.011760\n",
       "household                     115   1   8.529219\n",
       "international                 106   1   9.947240\n",
       "meat seafood                   90   1   8.557118\n",
       "missing                        71   1   9.374493\n",
       "other                          72   1   8.215075\n",
       "pantry                        107   1   9.617616\n",
       "personal care                 125   1   8.739896\n",
       "pets                          121   1   7.731680\n",
       "produce                       138   1   8.035760\n",
       "snacks                        132   1   9.193943"
      ]
     },
     "execution_count": 61,
     "metadata": {},
     "output_type": "execute_result"
    }
   ],
   "source": [
    "# Department aggregation based on frequency\n",
    "\n",
    "df.groupby('department').agg({'add_to_cart_order':['max','min','mean']})"
   ]
  },
  {
   "cell_type": "code",
   "execution_count": 57,
   "id": "3f74e177",
   "metadata": {},
   "outputs": [
    {
     "data": {
      "text/html": [
       "<div>\n",
       "<style scoped>\n",
       "    .dataframe tbody tr th:only-of-type {\n",
       "        vertical-align: middle;\n",
       "    }\n",
       "\n",
       "    .dataframe tbody tr th {\n",
       "        vertical-align: top;\n",
       "    }\n",
       "\n",
       "    .dataframe thead tr th {\n",
       "        text-align: left;\n",
       "    }\n",
       "\n",
       "    .dataframe thead tr:last-of-type th {\n",
       "        text-align: right;\n",
       "    }\n",
       "</style>\n",
       "<table border=\"1\" class=\"dataframe\">\n",
       "  <thead>\n",
       "    <tr>\n",
       "      <th></th>\n",
       "      <th colspan=\"3\" halign=\"left\">prices</th>\n",
       "    </tr>\n",
       "    <tr>\n",
       "      <th></th>\n",
       "      <th>max</th>\n",
       "      <th>min</th>\n",
       "      <th>mean</th>\n",
       "    </tr>\n",
       "    <tr>\n",
       "      <th>alcohol_drinker</th>\n",
       "      <th></th>\n",
       "      <th></th>\n",
       "      <th></th>\n",
       "    </tr>\n",
       "  </thead>\n",
       "  <tbody>\n",
       "    <tr>\n",
       "      <th>No</th>\n",
       "      <td>25.0</td>\n",
       "      <td>1.0</td>\n",
       "      <td>7.788839</td>\n",
       "    </tr>\n",
       "    <tr>\n",
       "      <th>Yes</th>\n",
       "      <td>15.0</td>\n",
       "      <td>1.0</td>\n",
       "      <td>8.151189</td>\n",
       "    </tr>\n",
       "  </tbody>\n",
       "</table>\n",
       "</div>"
      ],
      "text/plain": [
       "                prices               \n",
       "                   max  min      mean\n",
       "alcohol_drinker                      \n",
       "No                25.0  1.0  7.788839\n",
       "Yes               15.0  1.0  8.151189"
      ]
     },
     "execution_count": 57,
     "metadata": {},
     "output_type": "execute_result"
    }
   ],
   "source": [
    "# Alcohol drinker aggregation\n",
    "\n",
    "df.groupby('alcohol_drinker').agg({'prices' :['max','min','mean']})"
   ]
  },
  {
   "cell_type": "code",
   "execution_count": 62,
   "id": "69d8268a",
   "metadata": {},
   "outputs": [
    {
     "data": {
      "text/html": [
       "<div>\n",
       "<style scoped>\n",
       "    .dataframe tbody tr th:only-of-type {\n",
       "        vertical-align: middle;\n",
       "    }\n",
       "\n",
       "    .dataframe tbody tr th {\n",
       "        vertical-align: top;\n",
       "    }\n",
       "\n",
       "    .dataframe thead tr th {\n",
       "        text-align: left;\n",
       "    }\n",
       "\n",
       "    .dataframe thead tr:last-of-type th {\n",
       "        text-align: right;\n",
       "    }\n",
       "</style>\n",
       "<table border=\"1\" class=\"dataframe\">\n",
       "  <thead>\n",
       "    <tr>\n",
       "      <th></th>\n",
       "      <th colspan=\"3\" halign=\"left\">add_to_cart_order</th>\n",
       "    </tr>\n",
       "    <tr>\n",
       "      <th></th>\n",
       "      <th>max</th>\n",
       "      <th>min</th>\n",
       "      <th>mean</th>\n",
       "    </tr>\n",
       "    <tr>\n",
       "      <th>alcohol_drinker</th>\n",
       "      <th></th>\n",
       "      <th></th>\n",
       "      <th></th>\n",
       "    </tr>\n",
       "  </thead>\n",
       "  <tbody>\n",
       "    <tr>\n",
       "      <th>No</th>\n",
       "      <td>142</td>\n",
       "      <td>1</td>\n",
       "      <td>8.380253</td>\n",
       "    </tr>\n",
       "    <tr>\n",
       "      <th>Yes</th>\n",
       "      <td>71</td>\n",
       "      <td>1</td>\n",
       "      <td>5.453058</td>\n",
       "    </tr>\n",
       "  </tbody>\n",
       "</table>\n",
       "</div>"
      ],
      "text/plain": [
       "                add_to_cart_order              \n",
       "                              max min      mean\n",
       "alcohol_drinker                                \n",
       "No                            142   1  8.380253\n",
       "Yes                            71   1  5.453058"
      ]
     },
     "execution_count": 62,
     "metadata": {},
     "output_type": "execute_result"
    }
   ],
   "source": [
    "# Alcohol drinker frequency aggregation\n",
    "\n",
    "df.groupby('alcohol_drinker').agg({'add_to_cart_order' :['max','min','mean']})"
   ]
  },
  {
   "cell_type": "code",
   "execution_count": 58,
   "id": "4bd3ae87",
   "metadata": {},
   "outputs": [
    {
     "data": {
      "text/html": [
       "<div>\n",
       "<style scoped>\n",
       "    .dataframe tbody tr th:only-of-type {\n",
       "        vertical-align: middle;\n",
       "    }\n",
       "\n",
       "    .dataframe tbody tr th {\n",
       "        vertical-align: top;\n",
       "    }\n",
       "\n",
       "    .dataframe thead tr th {\n",
       "        text-align: left;\n",
       "    }\n",
       "\n",
       "    .dataframe thead tr:last-of-type th {\n",
       "        text-align: right;\n",
       "    }\n",
       "</style>\n",
       "<table border=\"1\" class=\"dataframe\">\n",
       "  <thead>\n",
       "    <tr>\n",
       "      <th></th>\n",
       "      <th colspan=\"3\" halign=\"left\">prices</th>\n",
       "    </tr>\n",
       "    <tr>\n",
       "      <th></th>\n",
       "      <th>max</th>\n",
       "      <th>min</th>\n",
       "      <th>mean</th>\n",
       "    </tr>\n",
       "    <tr>\n",
       "      <th>pet_owner</th>\n",
       "      <th></th>\n",
       "      <th></th>\n",
       "      <th></th>\n",
       "    </tr>\n",
       "  </thead>\n",
       "  <tbody>\n",
       "    <tr>\n",
       "      <th>No</th>\n",
       "      <td>25.0</td>\n",
       "      <td>1.0</td>\n",
       "      <td>7.790385</td>\n",
       "    </tr>\n",
       "    <tr>\n",
       "      <th>Yes</th>\n",
       "      <td>15.0</td>\n",
       "      <td>1.0</td>\n",
       "      <td>7.844075</td>\n",
       "    </tr>\n",
       "  </tbody>\n",
       "</table>\n",
       "</div>"
      ],
      "text/plain": [
       "          prices               \n",
       "             max  min      mean\n",
       "pet_owner                      \n",
       "No          25.0  1.0  7.790385\n",
       "Yes         15.0  1.0  7.844075"
      ]
     },
     "execution_count": 58,
     "metadata": {},
     "output_type": "execute_result"
    }
   ],
   "source": [
    "# Pet owner aggregation\n",
    "\n",
    "df.groupby('pet_owner').agg({'prices' :['max','min','mean']})"
   ]
  },
  {
   "cell_type": "code",
   "execution_count": 63,
   "id": "3143adee",
   "metadata": {},
   "outputs": [
    {
     "data": {
      "text/html": [
       "<div>\n",
       "<style scoped>\n",
       "    .dataframe tbody tr th:only-of-type {\n",
       "        vertical-align: middle;\n",
       "    }\n",
       "\n",
       "    .dataframe tbody tr th {\n",
       "        vertical-align: top;\n",
       "    }\n",
       "\n",
       "    .dataframe thead tr th {\n",
       "        text-align: left;\n",
       "    }\n",
       "\n",
       "    .dataframe thead tr:last-of-type th {\n",
       "        text-align: right;\n",
       "    }\n",
       "</style>\n",
       "<table border=\"1\" class=\"dataframe\">\n",
       "  <thead>\n",
       "    <tr>\n",
       "      <th></th>\n",
       "      <th colspan=\"3\" halign=\"left\">add_to_cart_order</th>\n",
       "    </tr>\n",
       "    <tr>\n",
       "      <th></th>\n",
       "      <th>max</th>\n",
       "      <th>min</th>\n",
       "      <th>mean</th>\n",
       "    </tr>\n",
       "    <tr>\n",
       "      <th>pet_owner</th>\n",
       "      <th></th>\n",
       "      <th></th>\n",
       "      <th></th>\n",
       "    </tr>\n",
       "  </thead>\n",
       "  <tbody>\n",
       "    <tr>\n",
       "      <th>No</th>\n",
       "      <td>142</td>\n",
       "      <td>1</td>\n",
       "      <td>8.368377</td>\n",
       "    </tr>\n",
       "    <tr>\n",
       "      <th>Yes</th>\n",
       "      <td>121</td>\n",
       "      <td>1</td>\n",
       "      <td>7.731680</td>\n",
       "    </tr>\n",
       "  </tbody>\n",
       "</table>\n",
       "</div>"
      ],
      "text/plain": [
       "          add_to_cart_order              \n",
       "                        max min      mean\n",
       "pet_owner                                \n",
       "No                      142   1  8.368377\n",
       "Yes                     121   1  7.731680"
      ]
     },
     "execution_count": 63,
     "metadata": {},
     "output_type": "execute_result"
    }
   ],
   "source": [
    "# Pet owner frequency aggregation\n",
    "\n",
    "df.groupby('pet_owner').agg({'add_to_cart_order' :['max','min','mean']})"
   ]
  },
  {
   "cell_type": "code",
   "execution_count": 60,
   "id": "24a448e3",
   "metadata": {},
   "outputs": [
    {
     "data": {
      "text/html": [
       "<div>\n",
       "<style scoped>\n",
       "    .dataframe tbody tr th:only-of-type {\n",
       "        vertical-align: middle;\n",
       "    }\n",
       "\n",
       "    .dataframe tbody tr th {\n",
       "        vertical-align: top;\n",
       "    }\n",
       "\n",
       "    .dataframe thead tr th {\n",
       "        text-align: left;\n",
       "    }\n",
       "\n",
       "    .dataframe thead tr:last-of-type th {\n",
       "        text-align: right;\n",
       "    }\n",
       "</style>\n",
       "<table border=\"1\" class=\"dataframe\">\n",
       "  <thead>\n",
       "    <tr>\n",
       "      <th></th>\n",
       "      <th colspan=\"3\" halign=\"left\">prices</th>\n",
       "    </tr>\n",
       "    <tr>\n",
       "      <th></th>\n",
       "      <th>max</th>\n",
       "      <th>min</th>\n",
       "      <th>mean</th>\n",
       "    </tr>\n",
       "    <tr>\n",
       "      <th>has_a_child</th>\n",
       "      <th></th>\n",
       "      <th></th>\n",
       "      <th></th>\n",
       "    </tr>\n",
       "  </thead>\n",
       "  <tbody>\n",
       "    <tr>\n",
       "      <th>No</th>\n",
       "      <td>25.0</td>\n",
       "      <td>1.0</td>\n",
       "      <td>7.792660</td>\n",
       "    </tr>\n",
       "    <tr>\n",
       "      <th>Yes</th>\n",
       "      <td>15.0</td>\n",
       "      <td>1.0</td>\n",
       "      <td>7.632759</td>\n",
       "    </tr>\n",
       "  </tbody>\n",
       "</table>\n",
       "</div>"
      ],
      "text/plain": [
       "            prices               \n",
       "               max  min      mean\n",
       "has_a_child                      \n",
       "No            25.0  1.0  7.792660\n",
       "Yes           15.0  1.0  7.632759"
      ]
     },
     "execution_count": 60,
     "metadata": {},
     "output_type": "execute_result"
    }
   ],
   "source": [
    "# Aggregation for customers with a child\n",
    "\n",
    "df.groupby('has_a_child').agg({'prices' :['max','min','mean']})"
   ]
  },
  {
   "cell_type": "code",
   "execution_count": 64,
   "id": "571900ca",
   "metadata": {},
   "outputs": [
    {
     "data": {
      "text/html": [
       "<div>\n",
       "<style scoped>\n",
       "    .dataframe tbody tr th:only-of-type {\n",
       "        vertical-align: middle;\n",
       "    }\n",
       "\n",
       "    .dataframe tbody tr th {\n",
       "        vertical-align: top;\n",
       "    }\n",
       "\n",
       "    .dataframe thead tr th {\n",
       "        text-align: left;\n",
       "    }\n",
       "\n",
       "    .dataframe thead tr:last-of-type th {\n",
       "        text-align: right;\n",
       "    }\n",
       "</style>\n",
       "<table border=\"1\" class=\"dataframe\">\n",
       "  <thead>\n",
       "    <tr>\n",
       "      <th></th>\n",
       "      <th colspan=\"3\" halign=\"left\">add_to_cart_order</th>\n",
       "    </tr>\n",
       "    <tr>\n",
       "      <th></th>\n",
       "      <th>max</th>\n",
       "      <th>min</th>\n",
       "      <th>mean</th>\n",
       "    </tr>\n",
       "    <tr>\n",
       "      <th>has_a_child</th>\n",
       "      <th></th>\n",
       "      <th></th>\n",
       "      <th></th>\n",
       "    </tr>\n",
       "  </thead>\n",
       "  <tbody>\n",
       "    <tr>\n",
       "      <th>No</th>\n",
       "      <td>142</td>\n",
       "      <td>1</td>\n",
       "      <td>8.336674</td>\n",
       "    </tr>\n",
       "    <tr>\n",
       "      <th>Yes</th>\n",
       "      <td>89</td>\n",
       "      <td>1</td>\n",
       "      <td>10.590141</td>\n",
       "    </tr>\n",
       "  </tbody>\n",
       "</table>\n",
       "</div>"
      ],
      "text/plain": [
       "            add_to_cart_order               \n",
       "                          max min       mean\n",
       "has_a_child                                 \n",
       "No                        142   1   8.336674\n",
       "Yes                        89   1  10.590141"
      ]
     },
     "execution_count": 64,
     "metadata": {},
     "output_type": "execute_result"
    }
   ],
   "source": [
    "# Customers with children frequency aggregation\n",
    "\n",
    "df.groupby('has_a_child').agg({'add_to_cart_order' :['max','min','mean']})"
   ]
  },
  {
   "cell_type": "code",
   "execution_count": 65,
   "id": "0b24ef40",
   "metadata": {},
   "outputs": [
    {
     "data": {
      "text/html": [
       "<div>\n",
       "<style scoped>\n",
       "    .dataframe tbody tr th:only-of-type {\n",
       "        vertical-align: middle;\n",
       "    }\n",
       "\n",
       "    .dataframe tbody tr th {\n",
       "        vertical-align: top;\n",
       "    }\n",
       "\n",
       "    .dataframe thead tr th {\n",
       "        text-align: left;\n",
       "    }\n",
       "\n",
       "    .dataframe thead tr:last-of-type th {\n",
       "        text-align: right;\n",
       "    }\n",
       "</style>\n",
       "<table border=\"1\" class=\"dataframe\">\n",
       "  <thead>\n",
       "    <tr>\n",
       "      <th></th>\n",
       "      <th colspan=\"3\" halign=\"left\">prices</th>\n",
       "    </tr>\n",
       "    <tr>\n",
       "      <th></th>\n",
       "      <th>max</th>\n",
       "      <th>min</th>\n",
       "      <th>mean</th>\n",
       "    </tr>\n",
       "    <tr>\n",
       "      <th>age_category</th>\n",
       "      <th></th>\n",
       "      <th></th>\n",
       "      <th></th>\n",
       "    </tr>\n",
       "  </thead>\n",
       "  <tbody>\n",
       "    <tr>\n",
       "      <th>Early middle age</th>\n",
       "      <td>25.0</td>\n",
       "      <td>1.0</td>\n",
       "      <td>7.796696</td>\n",
       "    </tr>\n",
       "    <tr>\n",
       "      <th>Late adulthood</th>\n",
       "      <td>25.0</td>\n",
       "      <td>1.0</td>\n",
       "      <td>7.795373</td>\n",
       "    </tr>\n",
       "    <tr>\n",
       "      <th>Late middle age</th>\n",
       "      <td>25.0</td>\n",
       "      <td>1.0</td>\n",
       "      <td>7.790187</td>\n",
       "    </tr>\n",
       "    <tr>\n",
       "      <th>Young adult</th>\n",
       "      <td>25.0</td>\n",
       "      <td>1.0</td>\n",
       "      <td>7.782545</td>\n",
       "    </tr>\n",
       "  </tbody>\n",
       "</table>\n",
       "</div>"
      ],
      "text/plain": [
       "                 prices               \n",
       "                    max  min      mean\n",
       "age_category                          \n",
       "Early middle age   25.0  1.0  7.796696\n",
       "Late adulthood     25.0  1.0  7.795373\n",
       "Late middle age    25.0  1.0  7.790187\n",
       "Young adult        25.0  1.0  7.782545"
      ]
     },
     "execution_count": 65,
     "metadata": {},
     "output_type": "execute_result"
    }
   ],
   "source": [
    "# Age category aggregation\n",
    "\n",
    "df.groupby('age_category').agg({'prices' :['max','min','mean']})"
   ]
  },
  {
   "cell_type": "code",
   "execution_count": 66,
   "id": "cedaf5dd",
   "metadata": {},
   "outputs": [
    {
     "data": {
      "text/html": [
       "<div>\n",
       "<style scoped>\n",
       "    .dataframe tbody tr th:only-of-type {\n",
       "        vertical-align: middle;\n",
       "    }\n",
       "\n",
       "    .dataframe tbody tr th {\n",
       "        vertical-align: top;\n",
       "    }\n",
       "\n",
       "    .dataframe thead tr th {\n",
       "        text-align: left;\n",
       "    }\n",
       "\n",
       "    .dataframe thead tr:last-of-type th {\n",
       "        text-align: right;\n",
       "    }\n",
       "</style>\n",
       "<table border=\"1\" class=\"dataframe\">\n",
       "  <thead>\n",
       "    <tr>\n",
       "      <th></th>\n",
       "      <th colspan=\"3\" halign=\"left\">add_to_cart_order</th>\n",
       "    </tr>\n",
       "    <tr>\n",
       "      <th></th>\n",
       "      <th>max</th>\n",
       "      <th>min</th>\n",
       "      <th>mean</th>\n",
       "    </tr>\n",
       "    <tr>\n",
       "      <th>age_category</th>\n",
       "      <th></th>\n",
       "      <th></th>\n",
       "      <th></th>\n",
       "    </tr>\n",
       "  </thead>\n",
       "  <tbody>\n",
       "    <tr>\n",
       "      <th>Early middle age</th>\n",
       "      <td>108</td>\n",
       "      <td>1</td>\n",
       "      <td>8.371146</td>\n",
       "    </tr>\n",
       "    <tr>\n",
       "      <th>Late adulthood</th>\n",
       "      <td>98</td>\n",
       "      <td>1</td>\n",
       "      <td>8.315452</td>\n",
       "    </tr>\n",
       "    <tr>\n",
       "      <th>Late middle age</th>\n",
       "      <td>142</td>\n",
       "      <td>1</td>\n",
       "      <td>8.367787</td>\n",
       "    </tr>\n",
       "    <tr>\n",
       "      <th>Young adult</th>\n",
       "      <td>107</td>\n",
       "      <td>1</td>\n",
       "      <td>8.412922</td>\n",
       "    </tr>\n",
       "  </tbody>\n",
       "</table>\n",
       "</div>"
      ],
      "text/plain": [
       "                 add_to_cart_order              \n",
       "                               max min      mean\n",
       "age_category                                    \n",
       "Early middle age               108   1  8.371146\n",
       "Late adulthood                  98   1  8.315452\n",
       "Late middle age                142   1  8.367787\n",
       "Young adult                    107   1  8.412922"
      ]
     },
     "execution_count": 66,
     "metadata": {},
     "output_type": "execute_result"
    }
   ],
   "source": [
    "# Age category frequnecy aggregation\n",
    "\n",
    "df.groupby('age_category').agg({'add_to_cart_order' :['max','min','mean']})"
   ]
  },
  {
   "cell_type": "code",
   "execution_count": 68,
   "id": "b969b1f0",
   "metadata": {},
   "outputs": [
    {
     "data": {
      "text/html": [
       "<div>\n",
       "<style scoped>\n",
       "    .dataframe tbody tr th:only-of-type {\n",
       "        vertical-align: middle;\n",
       "    }\n",
       "\n",
       "    .dataframe tbody tr th {\n",
       "        vertical-align: top;\n",
       "    }\n",
       "\n",
       "    .dataframe thead tr th {\n",
       "        text-align: left;\n",
       "    }\n",
       "\n",
       "    .dataframe thead tr:last-of-type th {\n",
       "        text-align: right;\n",
       "    }\n",
       "</style>\n",
       "<table border=\"1\" class=\"dataframe\">\n",
       "  <thead>\n",
       "    <tr>\n",
       "      <th></th>\n",
       "      <th colspan=\"3\" halign=\"left\">prices</th>\n",
       "    </tr>\n",
       "    <tr>\n",
       "      <th></th>\n",
       "      <th>max</th>\n",
       "      <th>min</th>\n",
       "      <th>mean</th>\n",
       "    </tr>\n",
       "    <tr>\n",
       "      <th>income_class</th>\n",
       "      <th></th>\n",
       "      <th></th>\n",
       "      <th></th>\n",
       "    </tr>\n",
       "  </thead>\n",
       "  <tbody>\n",
       "    <tr>\n",
       "      <th>High income</th>\n",
       "      <td>25.0</td>\n",
       "      <td>1.0</td>\n",
       "      <td>7.939023</td>\n",
       "    </tr>\n",
       "    <tr>\n",
       "      <th>Low income</th>\n",
       "      <td>25.0</td>\n",
       "      <td>1.0</td>\n",
       "      <td>6.764508</td>\n",
       "    </tr>\n",
       "    <tr>\n",
       "      <th>Middle income</th>\n",
       "      <td>25.0</td>\n",
       "      <td>1.0</td>\n",
       "      <td>7.927896</td>\n",
       "    </tr>\n",
       "  </tbody>\n",
       "</table>\n",
       "</div>"
      ],
      "text/plain": [
       "              prices               \n",
       "                 max  min      mean\n",
       "income_class                       \n",
       "High income     25.0  1.0  7.939023\n",
       "Low income      25.0  1.0  6.764508\n",
       "Middle income   25.0  1.0  7.927896"
      ]
     },
     "execution_count": 68,
     "metadata": {},
     "output_type": "execute_result"
    }
   ],
   "source": [
    "# Aggregation based on income class\n",
    "\n",
    "df.groupby('income_class').agg({'prices' :['max','min','mean']})"
   ]
  },
  {
   "cell_type": "code",
   "execution_count": 69,
   "id": "35ada866",
   "metadata": {},
   "outputs": [
    {
     "data": {
      "text/html": [
       "<div>\n",
       "<style scoped>\n",
       "    .dataframe tbody tr th:only-of-type {\n",
       "        vertical-align: middle;\n",
       "    }\n",
       "\n",
       "    .dataframe tbody tr th {\n",
       "        vertical-align: top;\n",
       "    }\n",
       "\n",
       "    .dataframe thead tr th {\n",
       "        text-align: left;\n",
       "    }\n",
       "\n",
       "    .dataframe thead tr:last-of-type th {\n",
       "        text-align: right;\n",
       "    }\n",
       "</style>\n",
       "<table border=\"1\" class=\"dataframe\">\n",
       "  <thead>\n",
       "    <tr>\n",
       "      <th></th>\n",
       "      <th colspan=\"3\" halign=\"left\">add_to_cart_order</th>\n",
       "    </tr>\n",
       "    <tr>\n",
       "      <th></th>\n",
       "      <th>max</th>\n",
       "      <th>min</th>\n",
       "      <th>mean</th>\n",
       "    </tr>\n",
       "    <tr>\n",
       "      <th>income_class</th>\n",
       "      <th></th>\n",
       "      <th></th>\n",
       "      <th></th>\n",
       "    </tr>\n",
       "  </thead>\n",
       "  <tbody>\n",
       "    <tr>\n",
       "      <th>High income</th>\n",
       "      <td>121</td>\n",
       "      <td>1</td>\n",
       "      <td>8.524178</td>\n",
       "    </tr>\n",
       "    <tr>\n",
       "      <th>Low income</th>\n",
       "      <td>137</td>\n",
       "      <td>1</td>\n",
       "      <td>7.397739</td>\n",
       "    </tr>\n",
       "    <tr>\n",
       "      <th>Middle income</th>\n",
       "      <td>142</td>\n",
       "      <td>1</td>\n",
       "      <td>8.494198</td>\n",
       "    </tr>\n",
       "  </tbody>\n",
       "</table>\n",
       "</div>"
      ],
      "text/plain": [
       "              add_to_cart_order              \n",
       "                            max min      mean\n",
       "income_class                                 \n",
       "High income                 121   1  8.524178\n",
       "Low income                  137   1  7.397739\n",
       "Middle income               142   1  8.494198"
      ]
     },
     "execution_count": 69,
     "metadata": {},
     "output_type": "execute_result"
    }
   ],
   "source": [
    "# Income class frequency aggregation\n",
    "\n",
    "df.groupby('income_class').agg({'add_to_cart_order' :['max','min','mean']})"
   ]
  },
  {
   "cell_type": "code",
   "execution_count": 70,
   "id": "4aa95502",
   "metadata": {},
   "outputs": [
    {
     "data": {
      "text/html": [
       "<div>\n",
       "<style scoped>\n",
       "    .dataframe tbody tr th:only-of-type {\n",
       "        vertical-align: middle;\n",
       "    }\n",
       "\n",
       "    .dataframe tbody tr th {\n",
       "        vertical-align: top;\n",
       "    }\n",
       "\n",
       "    .dataframe thead tr th {\n",
       "        text-align: left;\n",
       "    }\n",
       "\n",
       "    .dataframe thead tr:last-of-type th {\n",
       "        text-align: right;\n",
       "    }\n",
       "</style>\n",
       "<table border=\"1\" class=\"dataframe\">\n",
       "  <thead>\n",
       "    <tr>\n",
       "      <th></th>\n",
       "      <th colspan=\"3\" halign=\"left\">prices</th>\n",
       "    </tr>\n",
       "    <tr>\n",
       "      <th></th>\n",
       "      <th>max</th>\n",
       "      <th>min</th>\n",
       "      <th>mean</th>\n",
       "    </tr>\n",
       "    <tr>\n",
       "      <th>#_of_dependants</th>\n",
       "      <th></th>\n",
       "      <th></th>\n",
       "      <th></th>\n",
       "    </tr>\n",
       "  </thead>\n",
       "  <tbody>\n",
       "    <tr>\n",
       "      <th>0</th>\n",
       "      <td>25.0</td>\n",
       "      <td>1.0</td>\n",
       "      <td>7.784387</td>\n",
       "    </tr>\n",
       "    <tr>\n",
       "      <th>1</th>\n",
       "      <td>25.0</td>\n",
       "      <td>1.0</td>\n",
       "      <td>7.800376</td>\n",
       "    </tr>\n",
       "    <tr>\n",
       "      <th>2</th>\n",
       "      <td>25.0</td>\n",
       "      <td>1.0</td>\n",
       "      <td>7.785895</td>\n",
       "    </tr>\n",
       "    <tr>\n",
       "      <th>3</th>\n",
       "      <td>25.0</td>\n",
       "      <td>1.0</td>\n",
       "      <td>7.791550</td>\n",
       "    </tr>\n",
       "  </tbody>\n",
       "</table>\n",
       "</div>"
      ],
      "text/plain": [
       "                prices               \n",
       "                   max  min      mean\n",
       "#_of_dependants                      \n",
       "0                 25.0  1.0  7.784387\n",
       "1                 25.0  1.0  7.800376\n",
       "2                 25.0  1.0  7.785895\n",
       "3                 25.0  1.0  7.791550"
      ]
     },
     "execution_count": 70,
     "metadata": {},
     "output_type": "execute_result"
    }
   ],
   "source": [
    "# Aggregation based on number of dependents\n",
    "\n",
    "df.groupby('#_of_dependants').agg({'prices' :['max','min','mean']})"
   ]
  },
  {
   "cell_type": "code",
   "execution_count": 71,
   "id": "44bfbb5e",
   "metadata": {},
   "outputs": [
    {
     "data": {
      "text/html": [
       "<div>\n",
       "<style scoped>\n",
       "    .dataframe tbody tr th:only-of-type {\n",
       "        vertical-align: middle;\n",
       "    }\n",
       "\n",
       "    .dataframe tbody tr th {\n",
       "        vertical-align: top;\n",
       "    }\n",
       "\n",
       "    .dataframe thead tr th {\n",
       "        text-align: left;\n",
       "    }\n",
       "\n",
       "    .dataframe thead tr:last-of-type th {\n",
       "        text-align: right;\n",
       "    }\n",
       "</style>\n",
       "<table border=\"1\" class=\"dataframe\">\n",
       "  <thead>\n",
       "    <tr>\n",
       "      <th></th>\n",
       "      <th colspan=\"3\" halign=\"left\">add_to_cart_order</th>\n",
       "    </tr>\n",
       "    <tr>\n",
       "      <th></th>\n",
       "      <th>max</th>\n",
       "      <th>min</th>\n",
       "      <th>mean</th>\n",
       "    </tr>\n",
       "    <tr>\n",
       "      <th>#_of_dependants</th>\n",
       "      <th></th>\n",
       "      <th></th>\n",
       "      <th></th>\n",
       "    </tr>\n",
       "  </thead>\n",
       "  <tbody>\n",
       "    <tr>\n",
       "      <th>0</th>\n",
       "      <td>137</td>\n",
       "      <td>1</td>\n",
       "      <td>8.351180</td>\n",
       "    </tr>\n",
       "    <tr>\n",
       "      <th>1</th>\n",
       "      <td>109</td>\n",
       "      <td>1</td>\n",
       "      <td>8.385807</td>\n",
       "    </tr>\n",
       "    <tr>\n",
       "      <th>2</th>\n",
       "      <td>104</td>\n",
       "      <td>1</td>\n",
       "      <td>8.353183</td>\n",
       "    </tr>\n",
       "    <tr>\n",
       "      <th>3</th>\n",
       "      <td>142</td>\n",
       "      <td>1</td>\n",
       "      <td>8.375694</td>\n",
       "    </tr>\n",
       "  </tbody>\n",
       "</table>\n",
       "</div>"
      ],
      "text/plain": [
       "                add_to_cart_order              \n",
       "                              max min      mean\n",
       "#_of_dependants                                \n",
       "0                             137   1  8.351180\n",
       "1                             109   1  8.385807\n",
       "2                             104   1  8.353183\n",
       "3                             142   1  8.375694"
      ]
     },
     "execution_count": 71,
     "metadata": {},
     "output_type": "execute_result"
    }
   ],
   "source": [
    "# Number of dependents frequency aggregation\n",
    "\n",
    "df.groupby('#_of_dependants').agg({'add_to_cart_order' :['max','min','mean']})"
   ]
  },
  {
   "cell_type": "code",
   "execution_count": 73,
   "id": "4566cbac",
   "metadata": {},
   "outputs": [
    {
     "data": {
      "text/html": [
       "<div>\n",
       "<style scoped>\n",
       "    .dataframe tbody tr th:only-of-type {\n",
       "        vertical-align: middle;\n",
       "    }\n",
       "\n",
       "    .dataframe tbody tr th {\n",
       "        vertical-align: top;\n",
       "    }\n",
       "\n",
       "    .dataframe thead tr th {\n",
       "        text-align: left;\n",
       "    }\n",
       "\n",
       "    .dataframe thead tr:last-of-type th {\n",
       "        text-align: right;\n",
       "    }\n",
       "</style>\n",
       "<table border=\"1\" class=\"dataframe\">\n",
       "  <thead>\n",
       "    <tr>\n",
       "      <th></th>\n",
       "      <th colspan=\"3\" halign=\"left\">prices</th>\n",
       "    </tr>\n",
       "    <tr>\n",
       "      <th></th>\n",
       "      <th>max</th>\n",
       "      <th>min</th>\n",
       "      <th>mean</th>\n",
       "    </tr>\n",
       "    <tr>\n",
       "      <th>day_category</th>\n",
       "      <th></th>\n",
       "      <th></th>\n",
       "      <th></th>\n",
       "    </tr>\n",
       "  </thead>\n",
       "  <tbody>\n",
       "    <tr>\n",
       "      <th>Weekday</th>\n",
       "      <td>25.0</td>\n",
       "      <td>1.0</td>\n",
       "      <td>7.779708</td>\n",
       "    </tr>\n",
       "    <tr>\n",
       "      <th>Weekend</th>\n",
       "      <td>25.0</td>\n",
       "      <td>1.0</td>\n",
       "      <td>7.809330</td>\n",
       "    </tr>\n",
       "  </tbody>\n",
       "</table>\n",
       "</div>"
      ],
      "text/plain": [
       "             prices               \n",
       "                max  min      mean\n",
       "day_category                      \n",
       "Weekday        25.0  1.0  7.779708\n",
       "Weekend        25.0  1.0  7.809330"
      ]
     },
     "execution_count": 73,
     "metadata": {},
     "output_type": "execute_result"
    }
   ],
   "source": [
    "# Weekend vs. Weekday shopper aggregation\n",
    "\n",
    "df.groupby('day_category').agg({'prices' :['max','min','mean']})"
   ]
  },
  {
   "cell_type": "code",
   "execution_count": 74,
   "id": "a48c258f",
   "metadata": {},
   "outputs": [
    {
     "data": {
      "text/html": [
       "<div>\n",
       "<style scoped>\n",
       "    .dataframe tbody tr th:only-of-type {\n",
       "        vertical-align: middle;\n",
       "    }\n",
       "\n",
       "    .dataframe tbody tr th {\n",
       "        vertical-align: top;\n",
       "    }\n",
       "\n",
       "    .dataframe thead tr th {\n",
       "        text-align: left;\n",
       "    }\n",
       "\n",
       "    .dataframe thead tr:last-of-type th {\n",
       "        text-align: right;\n",
       "    }\n",
       "</style>\n",
       "<table border=\"1\" class=\"dataframe\">\n",
       "  <thead>\n",
       "    <tr>\n",
       "      <th></th>\n",
       "      <th colspan=\"3\" halign=\"left\">add_to_cart_order</th>\n",
       "    </tr>\n",
       "    <tr>\n",
       "      <th></th>\n",
       "      <th>max</th>\n",
       "      <th>min</th>\n",
       "      <th>mean</th>\n",
       "    </tr>\n",
       "    <tr>\n",
       "      <th>day_category</th>\n",
       "      <th></th>\n",
       "      <th></th>\n",
       "      <th></th>\n",
       "    </tr>\n",
       "  </thead>\n",
       "  <tbody>\n",
       "    <tr>\n",
       "      <th>Weekday</th>\n",
       "      <td>142</td>\n",
       "      <td>1</td>\n",
       "      <td>8.228562</td>\n",
       "    </tr>\n",
       "    <tr>\n",
       "      <th>Weekend</th>\n",
       "      <td>112</td>\n",
       "      <td>1</td>\n",
       "      <td>8.605445</td>\n",
       "    </tr>\n",
       "  </tbody>\n",
       "</table>\n",
       "</div>"
      ],
      "text/plain": [
       "             add_to_cart_order              \n",
       "                           max min      mean\n",
       "day_category                                \n",
       "Weekday                    142   1  8.228562\n",
       "Weekend                    112   1  8.605445"
      ]
     },
     "execution_count": 74,
     "metadata": {},
     "output_type": "execute_result"
    }
   ],
   "source": [
    "# Weekend vs. Weekday shopper frequency aggregation\n",
    "\n",
    "df.groupby('day_category').agg({'add_to_cart_order' :['max','min','mean']})"
   ]
  },
  {
   "cell_type": "code",
   "execution_count": 75,
   "id": "91373595",
   "metadata": {},
   "outputs": [
    {
     "data": {
      "text/html": [
       "<div>\n",
       "<style scoped>\n",
       "    .dataframe tbody tr th:only-of-type {\n",
       "        vertical-align: middle;\n",
       "    }\n",
       "\n",
       "    .dataframe tbody tr th {\n",
       "        vertical-align: top;\n",
       "    }\n",
       "\n",
       "    .dataframe thead tr th {\n",
       "        text-align: left;\n",
       "    }\n",
       "\n",
       "    .dataframe thead tr:last-of-type th {\n",
       "        text-align: right;\n",
       "    }\n",
       "</style>\n",
       "<table border=\"1\" class=\"dataframe\">\n",
       "  <thead>\n",
       "    <tr>\n",
       "      <th></th>\n",
       "      <th colspan=\"3\" halign=\"left\">prices</th>\n",
       "    </tr>\n",
       "    <tr>\n",
       "      <th></th>\n",
       "      <th>max</th>\n",
       "      <th>min</th>\n",
       "      <th>mean</th>\n",
       "    </tr>\n",
       "    <tr>\n",
       "      <th>marital_status</th>\n",
       "      <th></th>\n",
       "      <th></th>\n",
       "      <th></th>\n",
       "    </tr>\n",
       "  </thead>\n",
       "  <tbody>\n",
       "    <tr>\n",
       "      <th>divorced/widowed</th>\n",
       "      <td>25.0</td>\n",
       "      <td>1.0</td>\n",
       "      <td>7.799961</td>\n",
       "    </tr>\n",
       "    <tr>\n",
       "      <th>living with parents and siblings</th>\n",
       "      <td>25.0</td>\n",
       "      <td>1.0</td>\n",
       "      <td>7.806237</td>\n",
       "    </tr>\n",
       "    <tr>\n",
       "      <th>married</th>\n",
       "      <td>25.0</td>\n",
       "      <td>1.0</td>\n",
       "      <td>7.791665</td>\n",
       "    </tr>\n",
       "    <tr>\n",
       "      <th>single</th>\n",
       "      <td>25.0</td>\n",
       "      <td>1.0</td>\n",
       "      <td>7.776246</td>\n",
       "    </tr>\n",
       "  </tbody>\n",
       "</table>\n",
       "</div>"
      ],
      "text/plain": [
       "                                 prices               \n",
       "                                    max  min      mean\n",
       "marital_status                                        \n",
       "divorced/widowed                   25.0  1.0  7.799961\n",
       "living with parents and siblings   25.0  1.0  7.806237\n",
       "married                            25.0  1.0  7.791665\n",
       "single                             25.0  1.0  7.776246"
      ]
     },
     "execution_count": 75,
     "metadata": {},
     "output_type": "execute_result"
    }
   ],
   "source": [
    "# Marital status aggregation\n",
    "\n",
    "df.groupby('marital_status').agg({'prices' :['max','min','mean']})"
   ]
  },
  {
   "cell_type": "code",
   "execution_count": 76,
   "id": "8fd7fc34",
   "metadata": {},
   "outputs": [
    {
     "data": {
      "text/html": [
       "<div>\n",
       "<style scoped>\n",
       "    .dataframe tbody tr th:only-of-type {\n",
       "        vertical-align: middle;\n",
       "    }\n",
       "\n",
       "    .dataframe tbody tr th {\n",
       "        vertical-align: top;\n",
       "    }\n",
       "\n",
       "    .dataframe thead tr th {\n",
       "        text-align: left;\n",
       "    }\n",
       "\n",
       "    .dataframe thead tr:last-of-type th {\n",
       "        text-align: right;\n",
       "    }\n",
       "</style>\n",
       "<table border=\"1\" class=\"dataframe\">\n",
       "  <thead>\n",
       "    <tr>\n",
       "      <th></th>\n",
       "      <th colspan=\"3\" halign=\"left\">add_to_cart_order</th>\n",
       "    </tr>\n",
       "    <tr>\n",
       "      <th></th>\n",
       "      <th>max</th>\n",
       "      <th>min</th>\n",
       "      <th>mean</th>\n",
       "    </tr>\n",
       "    <tr>\n",
       "      <th>marital_status</th>\n",
       "      <th></th>\n",
       "      <th></th>\n",
       "      <th></th>\n",
       "    </tr>\n",
       "  </thead>\n",
       "  <tbody>\n",
       "    <tr>\n",
       "      <th>divorced/widowed</th>\n",
       "      <td>137</td>\n",
       "      <td>1</td>\n",
       "      <td>8.402176</td>\n",
       "    </tr>\n",
       "    <tr>\n",
       "      <th>living with parents and siblings</th>\n",
       "      <td>102</td>\n",
       "      <td>1</td>\n",
       "      <td>8.378009</td>\n",
       "    </tr>\n",
       "    <tr>\n",
       "      <th>married</th>\n",
       "      <td>142</td>\n",
       "      <td>1</td>\n",
       "      <td>8.371107</td>\n",
       "    </tr>\n",
       "    <tr>\n",
       "      <th>single</th>\n",
       "      <td>108</td>\n",
       "      <td>1</td>\n",
       "      <td>8.324524</td>\n",
       "    </tr>\n",
       "  </tbody>\n",
       "</table>\n",
       "</div>"
      ],
      "text/plain": [
       "                                 add_to_cart_order              \n",
       "                                               max min      mean\n",
       "marital_status                                                  \n",
       "divorced/widowed                               137   1  8.402176\n",
       "living with parents and siblings               102   1  8.378009\n",
       "married                                        142   1  8.371107\n",
       "single                                         108   1  8.324524"
      ]
     },
     "execution_count": 76,
     "metadata": {},
     "output_type": "execute_result"
    }
   ],
   "source": [
    "# Marital status frequency aggregation\n",
    "\n",
    "df.groupby('marital_status').agg({'add_to_cart_order' :['max','min','mean']})"
   ]
  },
  {
   "cell_type": "markdown",
   "id": "16a51cff",
   "metadata": {},
   "source": [
    "### Compare your customer profiles with regions and departments"
   ]
  },
  {
   "cell_type": "code",
   "execution_count": 86,
   "id": "1e8ba7e9",
   "metadata": {
    "scrolled": true
   },
   "outputs": [
    {
     "data": {
      "text/html": [
       "<div>\n",
       "<style scoped>\n",
       "    .dataframe tbody tr th:only-of-type {\n",
       "        vertical-align: middle;\n",
       "    }\n",
       "\n",
       "    .dataframe tbody tr th {\n",
       "        vertical-align: top;\n",
       "    }\n",
       "\n",
       "    .dataframe thead th {\n",
       "        text-align: right;\n",
       "    }\n",
       "</style>\n",
       "<table border=\"1\" class=\"dataframe\">\n",
       "  <thead>\n",
       "    <tr style=\"text-align: right;\">\n",
       "      <th>col_0</th>\n",
       "      <th>8779257</th>\n",
       "    </tr>\n",
       "    <tr>\n",
       "      <th>income_class</th>\n",
       "      <th></th>\n",
       "    </tr>\n",
       "  </thead>\n",
       "  <tbody>\n",
       "    <tr>\n",
       "      <th>High income</th>\n",
       "      <td>769994</td>\n",
       "    </tr>\n",
       "    <tr>\n",
       "      <th>Low income</th>\n",
       "      <td>1043843</td>\n",
       "    </tr>\n",
       "    <tr>\n",
       "      <th>Middle income</th>\n",
       "      <td>6965420</td>\n",
       "    </tr>\n",
       "  </tbody>\n",
       "</table>\n",
       "</div>"
      ],
      "text/plain": [
       "col_0          8779257\n",
       "income_class          \n",
       "High income     769994\n",
       "Low income     1043843\n",
       "Middle income  6965420"
      ]
     },
     "execution_count": 86,
     "metadata": {},
     "output_type": "execute_result"
    }
   ],
   "source": [
    "# Comparing income class vs. frequency of purchases\n",
    "\n",
    "income_frequency_crosstab = pd.crosstab(df['income_class'], df['add_to_cart_order'].count(), dropna = False)\n",
    "income_frequency_crosstab"
   ]
  },
  {
   "cell_type": "code",
   "execution_count": 206,
   "id": "3141c881",
   "metadata": {
    "scrolled": false
   },
   "outputs": [
    {
     "data": {
      "text/plain": [
       "(array([0, 1, 2]),\n",
       " [Text(0, 0, 'High income'),\n",
       "  Text(1, 0, 'Low income'),\n",
       "  Text(2, 0, 'Middle income')])"
      ]
     },
     "execution_count": 206,
     "metadata": {},
     "output_type": "execute_result"
    },
    {
     "data": {
      "image/png": "[encoded data removed]",
      "text/plain": [
       "<Figure size 720x432 with 1 Axes>"
      ]
     },
     "metadata": {
      "needs_background": "light"
     },
     "output_type": "display_data"
    }
   ],
   "source": [
    "hour_age_bar = income_frequency_crosstab.plot(kind = 'bar',figsize=(10,6), color=['#5296A5'])\n",
    "hour_age_bar.legend('',frameon=False)\n",
    "plt.title('Frequency of orders based on income class',fontsize=20)\n",
    "plt.xlabel('Income Class',fontsize=14)\n",
    "plt.ylabel('Frequency (in millions)',fontsize=14)\n",
    "plt.xticks(rotation=0,fontsize=12)"
   ]
  },
  {
   "cell_type": "markdown",
   "id": "d0a4e130",
   "metadata": {},
   "source": [
    "#### Interestingly enough it looks like low income class customers use the app slightly more than higher income"
   ]
  },
  {
   "cell_type": "code",
   "execution_count": 93,
   "id": "799952eb",
   "metadata": {},
   "outputs": [],
   "source": [
    "# Let's examine which hours of the day are the most popular for shoppers\n",
    "\n",
    "df.loc[(df['order_hour_of_day'] <= 6), 'hour_category'] = 'Midnight'\n",
    "df.loc[(df['order_hour_of_day'] > 6) & (df['order_hour_of_day'] <= 12), 'hour_category'] = 'Morning'\n",
    "df.loc[(df['order_hour_of_day'] > 12) & (df['order_hour_of_day'] <= 18), 'hour_category'] = 'Afternoon'\n",
    "df.loc[(df['order_hour_of_day'] > 18), 'hour_category'] = 'Evening'"
   ]
  },
  {
   "cell_type": "code",
   "execution_count": 95,
   "id": "7c55a15c",
   "metadata": {},
   "outputs": [
    {
     "data": {
      "text/plain": [
       "Afternoon    3854185\n",
       "Morning      3585063\n",
       "Evening      1099865\n",
       "Midnight      240144\n",
       "Name: hour_category, dtype: int64"
      ]
     },
     "execution_count": 95,
     "metadata": {},
     "output_type": "execute_result"
    }
   ],
   "source": [
    "df['hour_category'].value_counts(dropna = False)"
   ]
  },
  {
   "cell_type": "code",
   "execution_count": 96,
   "id": "02c330df",
   "metadata": {},
   "outputs": [],
   "source": [
    "# Create a bar chart between hour categories and number of purchases\n",
    "hour_order_crosstab = pd.crosstab(df['hour_category'], df['add_to_cart_order'].count(), dropna = False)"
   ]
  },
  {
   "cell_type": "code",
   "execution_count": 148,
   "id": "f629c3c9",
   "metadata": {},
   "outputs": [
    {
     "data": {
      "text/plain": [
       "(array([0, 1, 2, 3]),\n",
       " [Text(0, 0, 'Afternoon'),\n",
       "  Text(1, 0, 'Evening'),\n",
       "  Text(2, 0, 'Midnight'),\n",
       "  Text(3, 0, 'Morning')])"
      ]
     },
     "execution_count": 148,
     "metadata": {},
     "output_type": "execute_result"
    },
    {
     "data": {
      "image/png": "[encoded data removed]",
      "text/plain": [
       "<Figure size 720x432 with 1 Axes>"
      ]
     },
     "metadata": {
      "needs_background": "light"
     },
     "output_type": "display_data"
    }
   ],
   "source": [
    "hour_purchase_bar = hour_order_crosstab.plot(kind = 'bar',figsize=(10,6), color = ['#DABFFF'])\n",
    "hour_purchase_bar.legend('',frameon=False)\n",
    "plt.title('Number of purchases based on time of the day',fontsize=20)\n",
    "plt.xlabel('Time of day',fontsize=14)\n",
    "plt.ylabel('Frequency (in millions)',fontsize=14)\n",
    "plt.xticks(rotation=0,fontsize=12)"
   ]
  },
  {
   "cell_type": "code",
   "execution_count": 98,
   "id": "91e1204f",
   "metadata": {},
   "outputs": [],
   "source": [
    "# Compare different regions and purchases made throughout the day\n",
    "\n",
    "region_hour_crosstab = pd.crosstab(df['hour_category'],df['region'], dropna=False)"
   ]
  },
  {
   "cell_type": "code",
   "execution_count": 163,
   "id": "688df817",
   "metadata": {},
   "outputs": [
    {
     "data": {
      "text/plain": [
       "(array([0, 1, 2, 3]),\n",
       " [Text(0, 0, 'Afternoon'),\n",
       "  Text(1, 0, 'Evening'),\n",
       "  Text(2, 0, 'Midnight'),\n",
       "  Text(3, 0, 'Morning')])"
      ]
     },
     "execution_count": 163,
     "metadata": {},
     "output_type": "execute_result"
    },
    {
     "data": {
      "image/png": "[encoded data removed]",
      "text/plain": [
       "<Figure size 720x432 with 1 Axes>"
      ]
     },
     "metadata": {
      "needs_background": "light"
     },
     "output_type": "display_data"
    }
   ],
   "source": [
    "region_hour_bar = region_hour_crosstab.plot(kind = 'bar', figsize=(10,6), color = ['#87BCDE', '#805E73', '#4E4D5C','#f0EFF4'])\n",
    "region_hour_bar.legend(title = 'Region')\n",
    "plt.title('Comparing different regions and purchases made throughout the day',fontsize=20)\n",
    "plt.xlabel('Time of day', fontsize=14)\n",
    "plt.ylabel('Frequency (in millions)', fontsize=14)\n",
    "plt.xticks(rotation=0,fontsize=12)"
   ]
  },
  {
   "cell_type": "code",
   "execution_count": 224,
   "id": "9071644f",
   "metadata": {},
   "outputs": [],
   "source": [
    "# Compare departments and regions\n",
    "\n",
    "dpt_crosstab = pd.crosstab(df['department'], df['add_to_cart_order'].count(),dropna=False)"
   ]
  },
  {
   "cell_type": "code",
   "execution_count": 225,
   "id": "a4126080",
   "metadata": {},
   "outputs": [
    {
     "data": {
      "text/plain": [
       "(array([ 0,  1,  2,  3,  4,  5,  6,  7,  8,  9, 10, 11, 12, 13, 14, 15, 16,\n",
       "        17, 18, 19, 20]),\n",
       " [Text(0, 0, 'alcohol'),\n",
       "  Text(1, 0, 'babies'),\n",
       "  Text(2, 0, 'bakery'),\n",
       "  Text(3, 0, 'beverages'),\n",
       "  Text(4, 0, 'breakfast'),\n",
       "  Text(5, 0, 'bulk'),\n",
       "  Text(6, 0, 'canned goods'),\n",
       "  Text(7, 0, 'dairy eggs'),\n",
       "  Text(8, 0, 'deli'),\n",
       "  Text(9, 0, 'dry goods pasta'),\n",
       "  Text(10, 0, 'frozen'),\n",
       "  Text(11, 0, 'household'),\n",
       "  Text(12, 0, 'international'),\n",
       "  Text(13, 0, 'meat seafood'),\n",
       "  Text(14, 0, 'missing'),\n",
       "  Text(15, 0, 'other'),\n",
       "  Text(16, 0, 'pantry'),\n",
       "  Text(17, 0, 'personal care'),\n",
       "  Text(18, 0, 'pets'),\n",
       "  Text(19, 0, 'produce'),\n",
       "  Text(20, 0, 'snacks')])"
      ]
     },
     "execution_count": 225,
     "metadata": {},
     "output_type": "execute_result"
    },
    {
     "data": {
      "image/png": "[encoded data removed]",
      "text/plain": [
       "<Figure size 720x432 with 1 Axes>"
      ]
     },
     "metadata": {
      "needs_background": "light"
     },
     "output_type": "display_data"
    }
   ],
   "source": [
    "dpt_bar = region_dpt_crosstab.plot(kind = 'bar',figsize=(10,6), color=['#C5283D'])\n",
    "dpt_bar.legend('',frameon=False)\n",
    "plt.title('Popularity of departments',fontsize=20)\n",
    "plt.xlabel('Department',fontsize=14)\n",
    "plt.ylabel('Frequency of orders (in millions)',fontsize=14)\n",
    "plt.xticks(rotation=60,fontsize=11)"
   ]
  },
  {
   "cell_type": "markdown",
   "id": "4ff95a90",
   "metadata": {},
   "source": [
    "### Export visualizations"
   ]
  },
  {
   "cell_type": "code",
   "execution_count": 208,
   "id": "da6366d3",
   "metadata": {},
   "outputs": [],
   "source": [
    "# Export the new dataframe as a pkl format\n",
    "df.to_pickle(os.path.join(path,'2 Data','Prepared Data','high_activity_df.pkl'))"
   ]
  },
  {
   "cell_type": "code",
   "execution_count": 212,
   "id": "ccbac79e",
   "metadata": {},
   "outputs": [],
   "source": [
    "# Alcohol Pie Chart\n",
    "alcohol_pie.figure.savefig(os.path.join(path, '4 Analysis','Visualizations','alcohol_pie.png'))"
   ]
  },
  {
   "cell_type": "code",
   "execution_count": 213,
   "id": "25dd6bc3",
   "metadata": {},
   "outputs": [],
   "source": [
    "# Pet Owners Pie\n",
    "pet_pie.figure.savefig(os.path.join(path, '4 Analysis','Visualizations','pet_owner_pie.png'))"
   ]
  },
  {
   "cell_type": "code",
   "execution_count": 214,
   "id": "f971ac3e",
   "metadata": {},
   "outputs": [],
   "source": [
    "# Customers With Babies Pie\n",
    "baby_pie.figure.savefig(os.path.join(path, '4 Analysis','Visualizations','babies_pie.png'))"
   ]
  },
  {
   "cell_type": "code",
   "execution_count": 219,
   "id": "65d3e3f0",
   "metadata": {},
   "outputs": [],
   "source": [
    "# Income Classes within each Region\n",
    "region_income_bar.figure.savefig(os.path.join(path, '4 Analysis','Visualizations','region_income_bar.png'))"
   ]
  },
  {
   "cell_type": "code",
   "execution_count": 220,
   "id": "d6bf0e08",
   "metadata": {},
   "outputs": [],
   "source": [
    "# Age Group Day of Week Bar\n",
    "day_age_bar.figure.savefig(os.path.join(path, '4 Analysis','Visualizations','days_age_group_bar.png'))"
   ]
  },
  {
   "cell_type": "code",
   "execution_count": 221,
   "id": "54633731",
   "metadata": {},
   "outputs": [],
   "source": [
    "# Frequency of Orders based on Income Class Bar\n",
    "hour_age_bar.figure.savefig(os.path.join(path, '4 Analysis','Visualizations','hour_age_bar.png'))"
   ]
  },
  {
   "cell_type": "code",
   "execution_count": 222,
   "id": "a96a3cfc",
   "metadata": {},
   "outputs": [],
   "source": [
    "# Time of Day and Orders Bar\n",
    "hour_purchase_bar.figure.savefig(os.path.join(path, '4 Analysis','Visualizations','hour_purchase_bar.png'))"
   ]
  },
  {
   "cell_type": "code",
   "execution_count": 223,
   "id": "de5ba482",
   "metadata": {},
   "outputs": [],
   "source": [
    "# Region Hour Purchase Bar\n",
    "region_hour_bar.figure.savefig(os.path.join(path, '4 Analysis','Visualizations','region_hour_purchase_bar.png'))"
   ]
  },
  {
   "cell_type": "code",
   "execution_count": 226,
   "id": "6665efc2",
   "metadata": {},
   "outputs": [],
   "source": [
    "# Department Popularity Bar\n",
    "dpt_bar.figure.savefig(os.path.join(path, '4 Analysis','Visualizations','department_popularity_bar.png'))"
   ]
  },
  {
   "cell_type": "code",
   "execution_count": null,
   "id": "2269ae3e",
   "metadata": {},
   "outputs": [],
   "source": []
  }
 ],
 "metadata": {
  "kernelspec": {
   "display_name": "Python 3 (ipykernel)",
   "language": "python",
   "name": "python3"
  },
  "language_info": {
   "codemirror_mode": {
    "name": "ipython",
    "version": 3
   },
   "file_extension": ".py",
   "mimetype": "text/x-python",
   "name": "python",
   "nbconvert_exporter": "python",
   "pygments_lexer": "ipython3",
   "version": "3.9.7"
  }
 },
 "nbformat": 4,
 "nbformat_minor": 5
}
